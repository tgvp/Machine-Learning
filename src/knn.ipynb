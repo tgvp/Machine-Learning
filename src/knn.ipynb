{
 "cells": [
  {
   "cell_type": "code",
   "execution_count": 96,
   "metadata": {},
   "outputs": [],
   "source": [
    "# Import required libraries and load the dataset\n",
    "from sklearn.datasets import load_breast_cancer\n",
    "from sklearn.preprocessing import StandardScaler\n",
    "from sklearn.neighbors import KNeighborsClassifier\n",
    "from sklearn.model_selection import cross_val_score\n",
    "import numpy as np"
   ]
  },
  {
   "cell_type": "code",
   "execution_count": 97,
   "metadata": {},
   "outputs": [],
   "source": [
    "data = load_breast_cancer()\n",
    "X = data.data\n",
    "y = data.target"
   ]
  },
  {
   "cell_type": "code",
   "execution_count": 98,
   "metadata": {},
   "outputs": [
    {
     "data": {
      "text/plain": [
       "array([[1.799e+01, 1.038e+01, 1.228e+02, ..., 2.654e-01, 4.601e-01,\n",
       "        1.189e-01],\n",
       "       [2.057e+01, 1.777e+01, 1.329e+02, ..., 1.860e-01, 2.750e-01,\n",
       "        8.902e-02],\n",
       "       [1.969e+01, 2.125e+01, 1.300e+02, ..., 2.430e-01, 3.613e-01,\n",
       "        8.758e-02],\n",
       "       ...,\n",
       "       [1.660e+01, 2.808e+01, 1.083e+02, ..., 1.418e-01, 2.218e-01,\n",
       "        7.820e-02],\n",
       "       [2.060e+01, 2.933e+01, 1.401e+02, ..., 2.650e-01, 4.087e-01,\n",
       "        1.240e-01],\n",
       "       [7.760e+00, 2.454e+01, 4.792e+01, ..., 0.000e+00, 2.871e-01,\n",
       "        7.039e-02]])"
      ]
     },
     "execution_count": 98,
     "metadata": {},
     "output_type": "execute_result"
    }
   ],
   "source": [
    "X"
   ]
  },
  {
   "cell_type": "code",
   "execution_count": 99,
   "metadata": {},
   "outputs": [
    {
     "data": {
      "text/plain": [
       "array([0, 0, 0, 0, 0, 0, 0, 0, 0, 0, 0, 0, 0, 0, 0, 0, 0, 0, 0, 1, 1, 1,\n",
       "       0, 0, 0, 0, 0, 0, 0, 0, 0, 0, 0, 0, 0, 0, 0, 1, 0, 0, 0, 0, 0, 0,\n",
       "       0, 0, 1, 0, 1, 1, 1, 1, 1, 0, 0, 1, 0, 0, 1, 1, 1, 1, 0, 1, 0, 0,\n",
       "       1, 1, 1, 1, 0, 1, 0, 0, 1, 0, 1, 0, 0, 1, 1, 1, 0, 0, 1, 0, 0, 0,\n",
       "       1, 1, 1, 0, 1, 1, 0, 0, 1, 1, 1, 0, 0, 1, 1, 1, 1, 0, 1, 1, 0, 1,\n",
       "       1, 1, 1, 1, 1, 1, 1, 0, 0, 0, 1, 0, 0, 1, 1, 1, 0, 0, 1, 0, 1, 0,\n",
       "       0, 1, 0, 0, 1, 1, 0, 1, 1, 0, 1, 1, 1, 1, 0, 1, 1, 1, 1, 1, 1, 1,\n",
       "       1, 1, 0, 1, 1, 1, 1, 0, 0, 1, 0, 1, 1, 0, 0, 1, 1, 0, 0, 1, 1, 1,\n",
       "       1, 0, 1, 1, 0, 0, 0, 1, 0, 1, 0, 1, 1, 1, 0, 1, 1, 0, 0, 1, 0, 0,\n",
       "       0, 0, 1, 0, 0, 0, 1, 0, 1, 0, 1, 1, 0, 1, 0, 0, 0, 0, 1, 1, 0, 0,\n",
       "       1, 1, 1, 0, 1, 1, 1, 1, 1, 0, 0, 1, 1, 0, 1, 1, 0, 0, 1, 0, 1, 1,\n",
       "       1, 1, 0, 1, 1, 1, 1, 1, 0, 1, 0, 0, 0, 0, 0, 0, 0, 0, 0, 0, 0, 0,\n",
       "       0, 0, 1, 1, 1, 1, 1, 1, 0, 1, 0, 1, 1, 0, 1, 1, 0, 1, 0, 0, 1, 1,\n",
       "       1, 1, 1, 1, 1, 1, 1, 1, 1, 1, 1, 0, 1, 1, 0, 1, 0, 1, 1, 1, 1, 1,\n",
       "       1, 1, 1, 1, 1, 1, 1, 1, 1, 0, 1, 1, 1, 0, 1, 0, 1, 1, 1, 1, 0, 0,\n",
       "       0, 1, 1, 1, 1, 0, 1, 0, 1, 0, 1, 1, 1, 0, 1, 1, 1, 1, 1, 1, 1, 0,\n",
       "       0, 0, 1, 1, 1, 1, 1, 1, 1, 1, 1, 1, 1, 0, 0, 1, 0, 0, 0, 1, 0, 0,\n",
       "       1, 1, 1, 1, 1, 0, 1, 1, 1, 1, 1, 0, 1, 1, 1, 0, 1, 1, 0, 0, 1, 1,\n",
       "       1, 1, 1, 1, 0, 1, 1, 1, 1, 1, 1, 1, 0, 1, 1, 1, 1, 1, 0, 1, 1, 0,\n",
       "       1, 1, 1, 1, 1, 1, 1, 1, 1, 1, 1, 1, 0, 1, 0, 0, 1, 0, 1, 1, 1, 1,\n",
       "       1, 0, 1, 1, 0, 1, 0, 1, 1, 0, 1, 0, 1, 1, 1, 1, 1, 1, 1, 1, 0, 0,\n",
       "       1, 1, 1, 1, 1, 1, 0, 1, 1, 1, 1, 1, 1, 1, 1, 1, 1, 0, 1, 1, 1, 1,\n",
       "       1, 1, 1, 0, 1, 0, 1, 1, 0, 1, 1, 1, 1, 1, 0, 0, 1, 0, 1, 0, 1, 1,\n",
       "       1, 1, 1, 0, 1, 1, 0, 1, 0, 1, 0, 0, 1, 1, 1, 0, 1, 1, 1, 1, 1, 1,\n",
       "       1, 1, 1, 1, 1, 0, 1, 0, 0, 1, 1, 1, 1, 1, 1, 1, 1, 1, 1, 1, 1, 1,\n",
       "       1, 1, 1, 1, 1, 1, 1, 1, 1, 1, 1, 1, 0, 0, 0, 0, 0, 0, 1])"
      ]
     },
     "execution_count": 99,
     "metadata": {},
     "output_type": "execute_result"
    }
   ],
   "source": [
    "y"
   ]
  },
  {
   "cell_type": "code",
   "execution_count": 100,
   "metadata": {},
   "outputs": [],
   "source": [
    "# Preprocess the dataset using StandardScaler\n",
    "scaler = StandardScaler()\n",
    "X_scaled = scaler.fit_transform(X)"
   ]
  },
  {
   "attachments": {},
   "cell_type": "markdown",
   "metadata": {},
   "source": [
    "`KNN` with k=5"
   ]
  },
  {
   "cell_type": "code",
   "execution_count": 101,
   "metadata": {},
   "outputs": [
    {
     "data": {
      "text/html": [
       "<style>#sk-container-id-6 {color: black;background-color: white;}#sk-container-id-6 pre{padding: 0;}#sk-container-id-6 div.sk-toggleable {background-color: white;}#sk-container-id-6 label.sk-toggleable__label {cursor: pointer;display: block;width: 100%;margin-bottom: 0;padding: 0.3em;box-sizing: border-box;text-align: center;}#sk-container-id-6 label.sk-toggleable__label-arrow:before {content: \"▸\";float: left;margin-right: 0.25em;color: #696969;}#sk-container-id-6 label.sk-toggleable__label-arrow:hover:before {color: black;}#sk-container-id-6 div.sk-estimator:hover label.sk-toggleable__label-arrow:before {color: black;}#sk-container-id-6 div.sk-toggleable__content {max-height: 0;max-width: 0;overflow: hidden;text-align: left;background-color: #f0f8ff;}#sk-container-id-6 div.sk-toggleable__content pre {margin: 0.2em;color: black;border-radius: 0.25em;background-color: #f0f8ff;}#sk-container-id-6 input.sk-toggleable__control:checked~div.sk-toggleable__content {max-height: 200px;max-width: 100%;overflow: auto;}#sk-container-id-6 input.sk-toggleable__control:checked~label.sk-toggleable__label-arrow:before {content: \"▾\";}#sk-container-id-6 div.sk-estimator input.sk-toggleable__control:checked~label.sk-toggleable__label {background-color: #d4ebff;}#sk-container-id-6 div.sk-label input.sk-toggleable__control:checked~label.sk-toggleable__label {background-color: #d4ebff;}#sk-container-id-6 input.sk-hidden--visually {border: 0;clip: rect(1px 1px 1px 1px);clip: rect(1px, 1px, 1px, 1px);height: 1px;margin: -1px;overflow: hidden;padding: 0;position: absolute;width: 1px;}#sk-container-id-6 div.sk-estimator {font-family: monospace;background-color: #f0f8ff;border: 1px dotted black;border-radius: 0.25em;box-sizing: border-box;margin-bottom: 0.5em;}#sk-container-id-6 div.sk-estimator:hover {background-color: #d4ebff;}#sk-container-id-6 div.sk-parallel-item::after {content: \"\";width: 100%;border-bottom: 1px solid gray;flex-grow: 1;}#sk-container-id-6 div.sk-label:hover label.sk-toggleable__label {background-color: #d4ebff;}#sk-container-id-6 div.sk-serial::before {content: \"\";position: absolute;border-left: 1px solid gray;box-sizing: border-box;top: 0;bottom: 0;left: 50%;z-index: 0;}#sk-container-id-6 div.sk-serial {display: flex;flex-direction: column;align-items: center;background-color: white;padding-right: 0.2em;padding-left: 0.2em;position: relative;}#sk-container-id-6 div.sk-item {position: relative;z-index: 1;}#sk-container-id-6 div.sk-parallel {display: flex;align-items: stretch;justify-content: center;background-color: white;position: relative;}#sk-container-id-6 div.sk-item::before, #sk-container-id-6 div.sk-parallel-item::before {content: \"\";position: absolute;border-left: 1px solid gray;box-sizing: border-box;top: 0;bottom: 0;left: 50%;z-index: -1;}#sk-container-id-6 div.sk-parallel-item {display: flex;flex-direction: column;z-index: 1;position: relative;background-color: white;}#sk-container-id-6 div.sk-parallel-item:first-child::after {align-self: flex-end;width: 50%;}#sk-container-id-6 div.sk-parallel-item:last-child::after {align-self: flex-start;width: 50%;}#sk-container-id-6 div.sk-parallel-item:only-child::after {width: 0;}#sk-container-id-6 div.sk-dashed-wrapped {border: 1px dashed gray;margin: 0 0.4em 0.5em 0.4em;box-sizing: border-box;padding-bottom: 0.4em;background-color: white;}#sk-container-id-6 div.sk-label label {font-family: monospace;font-weight: bold;display: inline-block;line-height: 1.2em;}#sk-container-id-6 div.sk-label-container {text-align: center;}#sk-container-id-6 div.sk-container {/* jupyter's `normalize.less` sets `[hidden] { display: none; }` but bootstrap.min.css set `[hidden] { display: none !important; }` so we also need the `!important` here to be able to override the default hidden behavior on the sphinx rendered scikit-learn.org. See: https://github.com/scikit-learn/scikit-learn/issues/21755 */display: inline-block !important;position: relative;}#sk-container-id-6 div.sk-text-repr-fallback {display: none;}</style><div id=\"sk-container-id-6\" class=\"sk-top-container\"><div class=\"sk-text-repr-fallback\"><pre>KNeighborsClassifier()</pre><b>In a Jupyter environment, please rerun this cell to show the HTML representation or trust the notebook. <br />On GitHub, the HTML representation is unable to render, please try loading this page with nbviewer.org.</b></div><div class=\"sk-container\" hidden><div class=\"sk-item\"><div class=\"sk-estimator sk-toggleable\"><input class=\"sk-toggleable__control sk-hidden--visually\" id=\"sk-estimator-id-6\" type=\"checkbox\" checked><label for=\"sk-estimator-id-6\" class=\"sk-toggleable__label sk-toggleable__label-arrow\">KNeighborsClassifier</label><div class=\"sk-toggleable__content\"><pre>KNeighborsClassifier()</pre></div></div></div></div></div>"
      ],
      "text/plain": [
       "KNeighborsClassifier()"
      ]
     },
     "execution_count": 101,
     "metadata": {},
     "output_type": "execute_result"
    }
   ],
   "source": [
    "# Create and train a k-NN classifier with k=5\n",
    "knn = KNeighborsClassifier(n_neighbors=5)\n",
    "knn.fit(X_scaled, y)"
   ]
  },
  {
   "attachments": {},
   "cell_type": "markdown",
   "metadata": {},
   "source": [
    "5-fold cross-validation"
   ]
  },
  {
   "cell_type": "code",
   "execution_count": 102,
   "metadata": {},
   "outputs": [
    {
     "name": "stdout",
     "output_type": "stream",
     "text": [
      "Cross-validation accuracy scores: [0.96491228 0.95614035 0.98245614 0.95614035 0.96460177]\n",
      "Mean accuracy: 0.9648501785437045\n"
     ]
    }
   ],
   "source": [
    "# Use 5-fold cross-validation to estimate the model's accuracy\n",
    "scores = cross_val_score(knn, X_scaled, y, cv=5)\n",
    "print(f\"Cross-validation accuracy scores: {scores}\")\n",
    "print(f\"Mean accuracy: {scores.mean()}\")"
   ]
  },
  {
   "attachments": {},
   "cell_type": "markdown",
   "metadata": {},
   "source": [
    "Use the trained model to make predictions"
   ]
  },
  {
   "cell_type": "code",
   "execution_count": 103,
   "metadata": {},
   "outputs": [],
   "source": [
    "from sklearn.metrics import classification_report\n",
    "from sklearn.model_selection import train_test_split"
   ]
  },
  {
   "cell_type": "code",
   "execution_count": 104,
   "metadata": {},
   "outputs": [
    {
     "name": "stdout",
     "output_type": "stream",
     "text": [
      "              precision    recall  f1-score   support\n",
      "\n",
      "           0       0.93      0.93      0.93        43\n",
      "           1       0.96      0.96      0.96        71\n",
      "\n",
      "    accuracy                           0.95       114\n",
      "   macro avg       0.94      0.94      0.94       114\n",
      "weighted avg       0.95      0.95      0.95       114\n",
      "\n"
     ]
    }
   ],
   "source": [
    "scores = cross_val_score(knn, X_scaled, y, cv=5)\n",
    "X_train, X_test, y_train, y_test = train_test_split(X_scaled, y, test_size=0.2, random_state=42)\n",
    "knn.fit(X_train, y_train)\n",
    "y_pred = knn.predict(X_test)\n",
    "print(classification_report(y_test, y_pred))"
   ]
  },
  {
   "attachments": {},
   "cell_type": "markdown",
   "metadata": {},
   "source": [
    "Confusion matrix"
   ]
  },
  {
   "cell_type": "code",
   "execution_count": 105,
   "metadata": {},
   "outputs": [
    {
     "data": {
      "image/png": "[encoded data removed]",
      "text/plain": [
       "<Figure size 640x480 with 1 Axes>"
      ]
     },
     "metadata": {},
     "output_type": "display_data"
    }
   ],
   "source": [
    "from sklearn.metrics import confusion_matrix\n",
    "import matplotlib.pyplot as plt\n",
    "import seaborn as sns\n",
    "\n",
    "sns.set()\n",
    "mat = confusion_matrix(y_test, y_pred)\n",
    "sns.heatmap(mat.T, square=True, annot=True, fmt='d', cbar=False)\n",
    "plt.xlabel('true label')\n",
    "plt.ylabel('predicted label')\n",
    "plt.show()"
   ]
  },
  {
   "cell_type": "code",
   "execution_count": 106,
   "metadata": {},
   "outputs": [
    {
     "data": {
      "application/vnd.plotly.v1+json": {
       "config": {
        "plotlyServerURL": "https://plot.ly"
       },
       "data": [
        {
         "marker": {
          "color": [
           1,
           0,
           1,
           1,
           1,
           0,
           1,
           1,
           1,
           0,
           1,
           0,
           0,
           1,
           1,
           0,
           0,
           0,
           1,
           1,
           1,
           0,
           1,
           1,
           1,
           0,
           1,
           0,
           1,
           1,
           0,
           1,
           0,
           0,
           0,
           1,
           0,
           1,
           1,
           1,
           1,
           0,
           0,
           1,
           1,
           1,
           1,
           1,
           1,
           1,
           0,
           1,
           1,
           1,
           1,
           0,
           1,
           1,
           1,
           1,
           1,
           1,
           0,
           1,
           1,
           1,
           1,
           1,
           1,
           0,
           0,
           0,
           1,
           1,
           0,
           1,
           0,
           1,
           1,
           1,
           1,
           0,
           1,
           1,
           0,
           1,
           1,
           1,
           0,
           1,
           0,
           0,
           1,
           1,
           1,
           0,
           1,
           1,
           1,
           1,
           0,
           1,
           1,
           1,
           1,
           1,
           0,
           1,
           0,
           0,
           1,
           1,
           0,
           1,
           1,
           1,
           1,
           1,
           1,
           1,
           0,
           0,
           0,
           1,
           1,
           0,
           1,
           1,
           0,
           1,
           0,
           1,
           0,
           1,
           0,
           1,
           1,
           0,
           1,
           1,
           1,
           0,
           1,
           0,
           1,
           0,
           1,
           0,
           1,
           1,
           0,
           1,
           1,
           1,
           1,
           0,
           1,
           1,
           1,
           0,
           1,
           1,
           0,
           1,
           1,
           0,
           1,
           1,
           1,
           1,
           1,
           1,
           1,
           0,
           1,
           1,
           1,
           0,
           1,
           0,
           1,
           1,
           1,
           0,
           1,
           0,
           0,
           1,
           1,
           0,
           1,
           0,
           0,
           0,
           1,
           1,
           1,
           0,
           1,
           1,
           0,
           1,
           0,
           1,
           1,
           1,
           0,
           1,
           0,
           1,
           1,
           0,
           0,
           1,
           1,
           0,
           1,
           0,
           0,
           1,
           0,
           0,
           1,
           1,
           0,
           0,
           0,
           1,
           1,
           1,
           1,
           0,
           1,
           0,
           0,
           0,
           0,
           1,
           1,
           1,
           1,
           1,
           1,
           1,
           1,
           0,
           0,
           1,
           1,
           0,
           1,
           1,
           1,
           1,
           1,
           0,
           1,
           1,
           0,
           0,
           1,
           0,
           1,
           0,
           1,
           1,
           1,
           1,
           1,
           1,
           0,
           1,
           1,
           0,
           1,
           1,
           1,
           1,
           1,
           1,
           0,
           1,
           1,
           0,
           1,
           0,
           0,
           0,
           1,
           0,
           1,
           1,
           0,
           0,
           0,
           1,
           1,
           1,
           1,
           1,
           1,
           1,
           0,
           1,
           1,
           1,
           0,
           1,
           1,
           0,
           0,
           1,
           0,
           1,
           0,
           0,
           1,
           1,
           0,
           1,
           0,
           0,
           1,
           0,
           0,
           1,
           1,
           0,
           1,
           0,
           1,
           1,
           0,
           1,
           1,
           0,
           0,
           0,
           1,
           1,
           1,
           0,
           0,
           1,
           0,
           0,
           1,
           1,
           1,
           0,
           1,
           0,
           0,
           0,
           0,
           1,
           1,
           0,
           1,
           1,
           0,
           0,
           0,
           0,
           0,
           0,
           1,
           1,
           1,
           1,
           1,
           1,
           1,
           0,
           0,
           0,
           0,
           1,
           1,
           1,
           1,
           0,
           1,
           0,
           1,
           1,
           1,
           1,
           1,
           0,
           0,
           0,
           1,
           1,
           0,
           1,
           1,
           0,
           0,
           0,
           0,
           1,
           1,
           0,
           0,
           1,
           1,
           1,
           0,
           0,
           0,
           1,
           1,
           0,
           1,
           1,
           1,
           1,
           0,
           1,
           1,
           1,
           1,
           1,
           1,
           1,
           1,
           1,
           0,
           1,
           1,
           1,
           1,
           1,
           1,
           0,
           1,
           1,
           0,
           1,
           1,
           0,
           0,
           0,
           1,
           0,
           0,
           1,
           0,
           1,
           1,
           1,
           1,
           0,
           1
          ]
         },
         "mode": "markers",
         "type": "scatter",
         "x": [
          -1.4479872302630423,
          1.9775079895463534,
          -1.407089186016914,
          -0.9876002182979455,
          -1.1239270324517066,
          0.11721500473982457,
          0.08029315923984795,
          -0.7660691452980842,
          -0.533177504452076,
          1.6366909541619514,
          -0.5019359428751726,
          1.9803481315078906,
          0.2109396894705352,
          -1.2667861731170018,
          -0.20656117887535716,
          1.4606021525466766,
          1.0970639814699807,
          0.31034465812431955,
          0.03769102981679758,
          -0.6893853123365938,
          0.32454536793200267,
          0.3444263616627596,
          -0.17531961729845377,
          -1.035882631644069,
          0.14561642435519184,
          0.09165372708599445,
          -0.8768346817980152,
          1.6139698184696574,
          -1.0983657547978765,
          -0.35140841891372804,
          -0.20656117887535716,
          -0.3315274251829711,
          1.0289005743931006,
          1.832660749507982,
          0.3273855098935393,
          -0.0986357843369634,
          0.2762629545858791,
          -0.5076162267982459,
          -1.684571055659048,
          -0.19236046906767404,
          -0.7973107068749876,
          2.312644741007682,
          1.4975239980466533,
          -1.8084012451820475,
          0.20809954750899856,
          -0.8512734041441845,
          -1.251733420720857,
          -1.2841110390823756,
          -1.1494883101055366,
          -0.44513310364443864,
          0.28478338047048946,
          -1.035882631644069,
          -0.38264998049063187,
          0.17401784397055858,
          -1.1994748086285822,
          -0.0872752164908164,
          -0.35140841891372804,
          -0.10999635218310991,
          -0.21508160475996752,
          0.15981713416287496,
          -0.34572813499065475,
          -0.1440780557215504,
          0.9152948959316337,
          0.24786153497051233,
          -0.6609838927212266,
          0.11437486277828796,
          -0.11851677806771978,
          -0.7859501390288411,
          -1.5340435316976035,
          0.5631172927010841,
          1.239071079546815,
          -0.11851677806771978,
          0.0973340110090682,
          -0.16679919141384392,
          0.37850806520120006,
          -0.362768986759875,
          1.4435613007774568,
          -0.47069438129826874,
          -0.4735345232598054,
          -0.9279572371056753,
          -0.7831099970673044,
          1.329955622315989,
          -0.18099990122152704,
          -1.2951875927323686,
          0.8556519147393631,
          -0.8711543978749413,
          0.13709599847058146,
          -1.8279982247166506,
          1.4037993133159432,
          -0.12419706199079353,
          1.4293605909697733,
          1.6111296765081213,
          -0.7575487194134739,
          -0.5871402017212729,
          -0.2775647279137743,
          -0.14691819768308703,
          -1.0983657547978765,
          -1.361646914632327,
          -0.8711543978749413,
          -0.9847600763364088,
          -0.6496233248750801,
          -1.0273622057594591,
          -0.41389154206753526,
          -0.8654741139518681,
          -0.8768346817980152,
          -0.48205494914441577,
          0.1654974180859487,
          0.2109396894705352,
          0.7164849586240649,
          0.5687975766241574,
          -0.3570887028368018,
          -1.3241570407400427,
          2.1649573590077744,
          -0.27472458595223764,
          -0.9137565272979917,
          -0.533177504452076,
          -0.39117040637524175,
          0.12857557258597158,
          -0.5274972205290027,
          -0.5587387821059061,
          0.04053117177833421,
          0.2649023867397326,
          3.718515011968341,
          -0.3230069992983613,
          -0.24348302437533428,
          1.9973889832771101,
          -0.07307450668313328,
          -0.07307450668313328,
          1.7133747871234417,
          -0.15259848160616027,
          -0.47637466522134253,
          -1.4704243517591822,
          1.284513350931402,
          -0.13555762983694003,
          0.4211101946242499,
          -0.7547085774519372,
          0.08313330120138458,
          0.15697699220133832,
          -0.5899803436828095,
          -1.262241945978543,
          -0.8967156755287715,
          -0.7689092872596208,
          -0.4508133875675124,
          0.832930779047069,
          0.06041216550909108,
          0.12857557258597158,
          -0.6723444605673736,
          -0.36844927068294825,
          -0.31164643145221477,
          0.7704476558932623,
          1.8042593298926157,
          -0.260523876144554,
          -1.5496643124860556,
          -0.6411028989904702,
          -0.38833026441370516,
          0.20809954750899856,
          -0.4195718259906085,
          -0.8001508488365242,
          -0.6212219052597133,
          0.9493765994700731,
          0.23650096712436583,
          -0.7177867319519606,
          -0.5076162267982459,
          -1.248609264563167,
          -0.8115114166826712,
          1.6934937933926848,
          -0.030472377260082912,
          -1.0273622057594591,
          -1.207427206120885,
          -0.7263071578365705,
          -0.5161366526828558,
          -0.1327174878754034,
          -1.081324903028656,
          1.0857034136238342,
          -0.5445380722982225,
          -0.5445380722982225,
          -0.3570887028368018,
          0.7278455264702124,
          -0.5530584981828329,
          0.6312806997779652,
          0.673882829201015,
          -0.5928204856443466,
          -1.1580087359901465,
          0.034850887855260956,
          -0.8086712747211346,
          0.90109418612395,
          1.835500891469519,
          -1.5647170648821997,
          -0.4252521099136818,
          0.6085595640856711,
          -0.4508133875675124,
          0.898254044162413,
          1.1084245493161282,
          -0.6723444605673736,
          -0.32016685733682465,
          -1.001800928105629,
          -0.7121064480288873,
          0.24502139300897569,
          -0.6354226150673965,
          -1.4562236419514987,
          1.4350408748928465,
          -1.4442950457130446,
          -0.6609838927212266,
          -0.06455408079852291,
          0.23366082516282868,
          -0.1895203271061369,
          3.295333859699375,
          0.10585443689367809,
          2.9829182439303397,
          -0.5530584981828329,
          -0.3485682769521914,
          0.946536457508537,
          1.5088845658928007,
          -1.2327044695785612,
          -0.5473782142597596,
          1.8014191879310786,
          -0.6467831829135435,
          1.719055071046515,
          2.874992849391946,
          -0.7717494292211575,
          2.602339221084424,
          1.764497342431102,
          -0.26336401810609117,
          0.5801581444703049,
          1.7928987620464691,
          1.332795764277526,
          2.153596791161628,
          -0.47637466522134253,
          -0.6183817632981767,
          -0.07875479060620653,
          0.30182423223970917,
          0.4608721820857637,
          -0.8711543978749413,
          1.1623872465853244,
          1.5344458435466308,
          1.6082895345465842,
          0.26206224477819595,
          -0.8484332621826479,
          -0.3372077091060449,
          -0.25200345025994414,
          -0.30596614752914103,
          -0.07875479060620653,
          -0.2349625984907239,
          -0.39969083225985164,
          -0.6041810534904931,
          1.5514866953158506,
          1.8497016012772027,
          0.03769102981679758,
          -0.37412955460602154,
          0.8386110629701423,
          -1.3411978925092631,
          -0.9052361014133818,
          -1.5706813630014271,
          -1.6780387291475138,
          -1.010321353990239,
          1.812779755777226,
          -0.26336401810609117,
          -0.49341551699056224,
          2.5966589371613504,
          1.1623872465853244,
          -0.6865451703750568,
          1.1226252591238108,
          -0.024792093337009664,
          0.43531090443193354,
          -0.8257121264903544,
          -0.62406204722125,
          -0.7717494292211575,
          -0.39969083225985164,
          -1.010321353990239,
          -0.24348302437533428,
          1.1027442653930548,
          -1.343470006078492,
          0.17969812789363182,
          1.3839183195851863,
          -0.7433480096057907,
          -0.4394528197213654,
          -1.2156636178093414,
          -1.2642300453516186,
          -0.5019359428751726,
          -0.7092663060673502,
          1.0743428457776876,
          0.44951161423961716,
          0.19105869573977882,
          -0.271884443990701,
          0.23934110908590245,
          0.18537841181670509,
          0.6000391382010608,
          1.2305506536622055,
          -0.8029909907980609,
          1.1879485242391545,
          0.22514039927821883,
          -0.9165966692595283,
          1.4322007329313104,
          0.742046236277895,
          0.33306579381661305,
          -0.5132965107213191,
          -0.7660691452980842,
          -0.6950655962596671,
          -0.8427529782595746,
          0.11437486277828796,
          -0.16111890749077015,
          -0.7916304229519143,
          1.741776206738809,
          -0.13839777179847665,
          -0.13839777179847665,
          0.1314157145475082,
          0.4608721820857637,
          -1.2665021589208483,
          -0.317326715375288,
          0.602879280162598,
          -0.9023959594518453,
          -1.5780657321014224,
          0.37850806520120006,
          -1.207427206120885,
          0.38702849108580994,
          1.4975239980466533,
          -1.4908733738822462,
          -0.37696969656755813,
          1.5117247078543368,
          -0.5416979303366859,
          1.7502966326234184,
          1.5401261274697042,
          -0.8995558174903081,
          0.21946011535514556,
          -0.14691819768308703,
          -1.047243199490216,
          -0.35424856087526463,
          0.9351758896623905,
          -1.332393452428499,
          -0.19804075299074728,
          -0.7177867319519606,
          -0.33436756714450827,
          -0.07591464864466992,
          -1.5703973488052732,
          0.5716377185856946,
          -0.271884443990701,
          0.8215702112009226,
          0.38986863304734654,
          -0.15259848160616027,
          -0.5956606276058832,
          -0.5388577883751493,
          1.2277105117006684,
          1.2731527830852554,
          -0.749028293528864,
          0.8300906370855329,
          1.7559769165464916,
          -0.1327174878754034,
          -0.8143515586442078,
          -0.4053711161829254,
          1.5514866953158506,
          -1.5317714181283744,
          1.1879485242391545,
          0.23366082516282868,
          0.034850887855260956,
          -0.3854901224521685,
          0.2762629545858791,
          -0.3854901224521685,
          -0.32016685733682465,
          -0.0049110996062527905,
          -0.6865451703750568,
          -0.41105140010599867,
          1.5344458435466308,
          -0.11283649414464653,
          1.0090195806623439,
          -0.19520061102921066,
          -0.8654741139518681,
          -0.6865451703750568,
          -0.4735345232598054,
          -0.6354226150673965,
          -0.5274972205290027,
          -0.07875479060620653,
          -0.6212219052597133,
          -0.8143515586442078,
          1.3185950544698424,
          2.5796180853921307,
          0.8187300692393864,
          3.971287646545106,
          -0.10147592629850004,
          -0.6922254542981305,
          -0.7461881515673273,
          -0.021951951375472536,
          3.7753178511990755,
          -0.2122414627984304,
          0.7022842488163823,
          -1.0330424896825325,
          -0.7007458801827404,
          -0.9705593665287252,
          -0.12135692002925691,
          -0.6070211954520297,
          0.96925759320083,
          1.4378810168543836,
          -0.24064288241379767,
          -1.1154066065670967,
          -0.62406204722125,
          0.026330461970651087,
          0.020650178047577333,
          -0.30596614752914103,
          0.3983890589319564,
          -0.28892529575992126,
          1.5401261274697042,
          1.8298206075464458,
          -0.5843000597597362,
          -0.760388861375011,
          0.2819432385089523,
          0.5687975766241574,
          0.6170799899702816,
          -0.9449980888748951,
          -0.4280922518752189,
          1.7247353549695883,
          0.3529467875473694,
          2.6648223442382317,
          -1.0983657547978765,
          -0.4848950911059524,
          0.48927360170113043,
          -0.4650140973751955,
          -0.07023436472159615,
          -1.2454851084054763,
          -0.9449980888748951,
          1.9292255762002302,
          0.45519189816269046,
          -0.35424856087526463,
          -1.3801078373823152,
          -0.10715621022157329,
          -0.5189767946443924,
          -0.36844927068294825,
          -0.6780247444904469,
          -0.30596614752914103,
          -0.9222769531826016,
          1.5912486827773644,
          -1.3130804870900499,
          -0.7348275837211808,
          -1.2417929238554786,
          -0.6751846025289102,
          -0.794470564913451,
          -0.3854901224521685,
          0.13425585650904484,
          0.24502139300897569,
          1.0573019940084678,
          1.5770479729696807,
          -0.1781597592599904,
          -0.5502183562212962,
          0.08313330120138458,
          2.0570319644693806,
          1.3895986035082595,
          -0.32016685733682465,
          0.5403961570087912,
          0.017810036086040707,
          -0.2804048698753109,
          1.287353492892939,
          -0.29744572164453115,
          -1.4880332319207095,
          -0.7064261641058136,
          0.04621145570140746,
          -0.04183294510622941,
          -0.5530584981828329
         ],
         "y": [
          -0.4560233618080422,
          1.6941866630408013,
          -1.263515654689588,
          1.3800326009687298,
          -1.0261548077906895,
          1.9199121743074004,
          0.10247274854230713,
          -0.9074743843412403,
          -0.3140722670939945,
          0.2258073062446761,
          0.584175643719483,
          0.2863110515326301,
          -0.6096097921543874,
          -0.1860835751387069,
          -0.5444519126135139,
          1.670915991776203,
          -2.0733350146975935,
          2.636648849257015,
          -0.2605497231854193,
          -0.04180541329819989,
          -1.4845870317032674,
          -1.1704329696311964,
          -0.09300089008031492,
          0.13272462118628411,
          -0.9423803912381372,
          0.21649903773883633,
          -0.5723767181310315,
          0.6656229931455752,
          -1.6451546634289926,
          -1.4357186220476121,
          0.2863110515326301,
          -0.23262491766790247,
          2.0339384635039304,
          0.6632959260191158,
          0.7261267384335299,
          -0.8143916992828492,
          0.6353711205015982,
          -1.0098653379054712,
          -0.5700496510045714,
          -0.2302978505414423,
          1.8128670864902499,
          0.0885103457835487,
          0.9797770552176467,
          1.2217920363694643,
          -0.5467789797399732,
          -0.6212451277866864,
          -0.24891438755312104,
          -0.5700496510045714,
          -0.9726322638821147,
          -0.05111368180403884,
          2.448156412013772,
          -1.0028841365260917,
          -0.6514970004306643,
          1.426573943497926,
          -0.2861474615764777,
          1.2101567007371652,
          -1.2053389765280933,
          -0.3210534684733741,
          -0.6747676716952616,
          -1.2355908491720702,
          -0.6887300744540209,
          0.9169462428032326,
          0.8773861016534158,
          -0.8795495788237231,
          -0.47231283169325994,
          -1.2355908491720702,
          -0.14186929973597065,
          -0.4001737507730069,
          -0.8050834307770098,
          -0.288474528702937,
          -0.41180908640530595,
          0.3584501324528832,
          1.3265100570601545,
          -1.1471622983665986,
          -1.7219478786021658,
          0.4841117572817123,
          -0.16746703812702818,
          -0.4606774960609617,
          0.13970582256566375,
          0.5097094956727698,
          -0.09300089008031492,
          0.1606494267038018,
          0.7005290000424724,
          -0.7864668937653315,
          -0.6724406045688023,
          -1.0377901434229886,
          -0.837662370547447,
          1.4312280777508457,
          1.2846228487838784,
          -0.7492338197419749,
          1.7011678644201809,
          0.5283260326844477,
          -0.2628767903118795,
          -0.0906738229538556,
          -0.9191097199735394,
          1.2566980432663617,
          -0.6305533962925262,
          0.6167545834899202,
          -0.5048917714636971,
          -0.9633239953762752,
          -0.13721516548305118,
          0.20951783635945753,
          -0.463004563187421,
          -1.0657149489405058,
          -1.0145194721583908,
          -0.5328165769812148,
          0.5353072340638273,
          0.214171970612377,
          0.4864388244081716,
          0.3235441255559867,
          -0.7166548799715378,
          0.4003373407291601,
          0.3956832064762398,
          0.2909651857855496,
          -1.6149027907850158,
          0.7331079398129096,
          -0.6026285907750085,
          -1.3100569972187834,
          2.4853894860371284,
          -0.2931286629558565,
          0.7587056782039671,
          0.1257434198069045,
          0.6004651136047017,
          -1.1774141710105757,
          -1.054079613308207,
          0.8727319674004963,
          0.3281982598089062,
          -0.7166548799715378,
          0.08618327865708855,
          -0.3373429383585927,
          -0.8353353034209873,
          -0.8213729006622283,
          -0.39319254939362724,
          -1.426410353541773,
          0.02102539911621426,
          -0.7585420882478138,
          -0.6398616647983651,
          0.19555543360069827,
          -1.084331485952184,
          0.01171713061037531,
          -0.4862752344520192,
          0.25373211176219296,
          -0.6910571415804803,
          0.39801027360269997,
          -1.3542712726215194,
          0.5213448313050689,
          0.5376343011902875,
          0.7075102014218512,
          -0.20237304502392464,
          0.039641936127892984,
          0.5050553614198503,
          2.040919664883309,
          -1.1262186942284607,
          0.5236718984315283,
          -1.3775419438861176,
          0.9122921085503131,
          -0.2605497231854193,
          -0.05809488318341846,
          0.3421606625676654,
          1.2543709761399013,
          -0.044132480424659205,
          -0.2163354477826839,
          1.7616716097081349,
          -0.9191097199735394,
          -0.8818766459501828,
          1.0635514717701988,
          -0.8446435719268262,
          0.8843673030327953,
          0.025679533369133735,
          -0.05809488318341846,
          -0.6445157990512846,
          -0.037151279045280414,
          -0.6840759402011006,
          0.16763062808318144,
          -1.2099931107810127,
          -0.2954557300823166,
          0.05825847313957088,
          0.21184490348591684,
          -1.2123201779074726,
          0.9309086455619909,
          -0.23262491766790247,
          2.059536201894988,
          -0.4094820192788458,
          0.5655591067078043,
          -1.3728878096331978,
          -0.5142000399695369,
          0.45385988463773447,
          -1.7452185498667638,
          0.3421606625676654,
          0.33052532693536635,
          -0.2838203944500175,
          0.6609688588926557,
          -0.5677225838781113,
          -0.26753092456479893,
          0.3468147968205849,
          -0.07903848732155651,
          -0.25822265605896,
          1.3753784667158102,
          0.43757041475251673,
          -1.1378540298607593,
          0.7447432754452078,
          -0.0906738229538556,
          -0.6305533962925262,
          -0.011553540654222887,
          -0.1209256955978326,
          2.0758256717802066,
          -0.4257714891640644,
          -1.9546545912481443,
          0.5376343011902875,
          -0.3373429383585927,
          -0.7841398266388717,
          4.651888980771191,
          -0.1092903599655335,
          0.15134115819796284,
          -0.9493615926175164,
          0.3212170584295274,
          -0.4257714891640644,
          0.05825847313957088,
          0.21184490348591684,
          -1.0168465392848505,
          1.7174573343053994,
          0.5166906970521494,
          -0.432752690543444,
          -0.7492338197419749,
          0.5795215094665636,
          0.623735784869299,
          -0.4746398988197201,
          -0.6701135374423421,
          -1.007538270779011,
          -0.48394816732555906,
          -1.4147750179094738,
          0.22348023911821593,
          -1.007538270779011,
          -0.13721516548305118,
          3.0671562676520754,
          1.3567619297041325,
          -0.05111368180403884,
          -1.2146472450339323,
          -0.7259631484773766,
          0.19555543360069827,
          -0.1628129038741087,
          0.07222087589833014,
          0.5306530998109079,
          -1.2821321917012662,
          2.080479806033126,
          1.3288371241866146,
          -0.4513692275551219,
          0.0838562115306284,
          -1.4496810248063707,
          1.8291565563754686,
          0.5609049724548849,
          -0.1628129038741087,
          -0.16048583674764855,
          0.3281982598089062,
          -0.22564371628852284,
          1.9827429867218145,
          -0.8074104979034695,
          -0.4211173549111449,
          0.6400252547545175,
          -0.0976550243332344,
          -0.6096097921543874,
          0.593483912225322,
          -0.7701774238801129,
          0.9099650414238529,
          3.3789832625976874,
          0.5213448313050689,
          -1.9709440611333628,
          -0.3769030795084087,
          0.21649903773883633,
          -0.5281624427282953,
          0.295619320038469,
          0.5562508382019654,
          -1.0587337475611265,
          -0.08834675582739546,
          1.0798409416554173,
          -0.20702717927684494,
          -0.8399894376739067,
          -1.4310644877946923,
          -0.1744482395064078,
          2.327148921437863,
          0.4026644078556194,
          -1.2472261848043693,
          -0.3792301466348688,
          0.5865027108459424,
          -0.5444519126135139,
          1.0821680087818775,
          -0.1209256955978326,
          -0.17910237375932728,
          -0.25589558893249986,
          -0.16513997100056885,
          -1.0145194721583908,
          -1.4729516960709685,
          1.2822957816574192,
          0.5353072340638273,
          1.3916679366010287,
          -1.6055945222791763,
          -0.4606774960609617,
          -0.7259631484773766,
          0.49342002578755123,
          0.01171713061037531,
          -1.2542073861837486,
          -0.15815876962118922,
          0.8704049002740369,
          -0.6864030073275608,
          -0.858605974685585,
          0.7889575508479441,
          -0.016207674907142363,
          -0.27683919307063787,
          0.6819124630307937,
          0.05127727176019208,
          0.4794576230287928,
          -1.4403727563005317,
          1.084495075908337,
          -0.46998576456680063,
          0.15832235957734164,
          -0.25822265605896,
          -0.8842037130766426,
          -0.4257714891640644,
          0.00939006348391516,
          0.17461182946256024,
          -1.1518164326195182,
          2.2061414308619542,
          -0.38853841514070775,
          0.7540515439510476,
          1.3241829899336952,
          -0.8911849144560218,
          -0.24891438755312104,
          1.4591528832683625,
          -0.22564371628852284,
          0.07920207727770893,
          -1.5008765015884862,
          -0.760869155374274,
          -0.5491060468664334,
          0.3933561393497805,
          -1.0308089420436093,
          -0.14652343398889012,
          1.0914762772877165,
          0.41662681061437784,
          0.593483912225322,
          -0.3163993342204547,
          0.06291260739249036,
          0.6097733821105406,
          0.22348023911821593,
          -1.0936397544580234,
          -0.04878661467757951,
          1.8082129522373305,
          -0.9633239953762752,
          0.1559952924508823,
          -1.6567899990612918,
          -0.26520385743833963,
          -0.5700496510045714,
          0.3002734542913885,
          -0.4001737507730069,
          0.6656229931455752,
          0.7400891411922883,
          -0.6747676716952616,
          2.3597278612083,
          0.5888297779724025,
          -1.4915682330826467,
          -0.8935119815824819,
          1.0588973375172794,
          -0.0906738229538556,
          0.7726680809627255,
          0.33750652831474515,
          0.5329801669373672,
          -0.10696329283907419,
          -0.4886023015784785,
          -1.5032035687149459,
          -0.2186625149091432,
          -0.318726401346914,
          -0.956342793996896,
          -0.24426025330020157,
          0.1257434198069045,
          0.4980741600404707,
          1.7872693480991924,
          0.2258073062446761,
          -0.19073770939162638,
          -1.4008126151507154,
          1.198521365104867,
          -0.19539184364454584,
          1.8291565563754686,
          1.6243746492470075,
          2.6599195205216124,
          2.045573799136229,
          -0.15815876962118922,
          -0.5165271070959963,
          0.2560591788886531,
          -0.3838842808877883,
          1.303239385795557,
          0.007062996357455837,
          -0.7794856923859523,
          0.23046144049759557,
          -0.4211173549111449,
          -1.950000456995225,
          0.891348504412175,
          0.2886381186590902,
          -1.2681697889425074,
          3.320806584436193,
          -0.867914243191424,
          0.9122921085503131,
          -0.35363240824381126,
          -1.3612524740008989,
          0.39102907222332034,
          -0.607282725027928,
          -0.32803466985275376,
          -0.8353353034209873,
          0.6260628519957592,
          -0.49791057008431827,
          1.7546904083287553,
          0.8075740878596228,
          1.1589612239550502,
          -1.0657149489405058,
          -0.9889217337673332,
          1.084495075908337,
          -0.5677225838781113,
          -0.7282902156038368,
          -0.8423165048003665,
          -2.229248512170399,
          1.3497807283247527,
          -1.863898973316213,
          2.2410474377588514,
          -1.4938953002091069,
          1.0426078676320607,
          -0.7887939608917912,
          -0.8283541020416076,
          -1.0703690831934256,
          0.004735929230995686,
          -0.8539518404326656,
          0.12341635268044518,
          -1.5939591866468776,
          -1.9942147323979607,
          2.0734986046537465,
          0.20719076923299737,
          -1.1937036408957942,
          0.49342002578755123,
          0.9309086455619909,
          0.6563147246397362,
          -1.4101208836565542,
          0.5562508382019654,
          -1.531128374232463,
          -1.3961584808977958,
          0.11178101704814608,
          -0.9749593310085743,
          1.2334273720017634,
          1.3590889968305917,
          -0.8795495788237231,
          1.0519161361378997,
          0.33750652831474515,
          -0.5048917714636971,
          -0.833008236294527,
          -1.0820044188257243,
          -0.2233166491620635,
          -0.5747037852574909,
          0.0768750101512496,
          0.2863110515326301
         ]
        }
       ],
       "layout": {
        "template": {
         "data": {
          "bar": [
           {
            "error_x": {
             "color": "#2a3f5f"
            },
            "error_y": {
             "color": "#2a3f5f"
            },
            "marker": {
             "line": {
              "color": "#E5ECF6",
              "width": 0.5
             },
             "pattern": {
              "fillmode": "overlay",
              "size": 10,
              "solidity": 0.2
             }
            },
            "type": "bar"
           }
          ],
          "barpolar": [
           {
            "marker": {
             "line": {
              "color": "#E5ECF6",
              "width": 0.5
             },
             "pattern": {
              "fillmode": "overlay",
              "size": 10,
              "solidity": 0.2
             }
            },
            "type": "barpolar"
           }
          ],
          "carpet": [
           {
            "aaxis": {
             "endlinecolor": "#2a3f5f",
             "gridcolor": "white",
             "linecolor": "white",
             "minorgridcolor": "white",
             "startlinecolor": "#2a3f5f"
            },
            "baxis": {
             "endlinecolor": "#2a3f5f",
             "gridcolor": "white",
             "linecolor": "white",
             "minorgridcolor": "white",
             "startlinecolor": "#2a3f5f"
            },
            "type": "carpet"
           }
          ],
          "choropleth": [
           {
            "colorbar": {
             "outlinewidth": 0,
             "ticks": ""
            },
            "type": "choropleth"
           }
          ],
          "contour": [
           {
            "colorbar": {
             "outlinewidth": 0,
             "ticks": ""
            },
            "colorscale": [
             [
              0,
              "#0d0887"
             ],
             [
              0.1111111111111111,
              "#46039f"
             ],
             [
              0.2222222222222222,
              "#7201a8"
             ],
             [
              0.3333333333333333,
              "#9c179e"
             ],
             [
              0.4444444444444444,
              "#bd3786"
             ],
             [
              0.5555555555555556,
              "#d8576b"
             ],
             [
              0.6666666666666666,
              "#ed7953"
             ],
             [
              0.7777777777777778,
              "#fb9f3a"
             ],
             [
              0.8888888888888888,
              "#fdca26"
             ],
             [
              1,
              "#f0f921"
             ]
            ],
            "type": "contour"
           }
          ],
          "contourcarpet": [
           {
            "colorbar": {
             "outlinewidth": 0,
             "ticks": ""
            },
            "type": "contourcarpet"
           }
          ],
          "heatmap": [
           {
            "colorbar": {
             "outlinewidth": 0,
             "ticks": ""
            },
            "colorscale": [
             [
              0,
              "#0d0887"
             ],
             [
              0.1111111111111111,
              "#46039f"
             ],
             [
              0.2222222222222222,
              "#7201a8"
             ],
             [
              0.3333333333333333,
              "#9c179e"
             ],
             [
              0.4444444444444444,
              "#bd3786"
             ],
             [
              0.5555555555555556,
              "#d8576b"
             ],
             [
              0.6666666666666666,
              "#ed7953"
             ],
             [
              0.7777777777777778,
              "#fb9f3a"
             ],
             [
              0.8888888888888888,
              "#fdca26"
             ],
             [
              1,
              "#f0f921"
             ]
            ],
            "type": "heatmap"
           }
          ],
          "heatmapgl": [
           {
            "colorbar": {
             "outlinewidth": 0,
             "ticks": ""
            },
            "colorscale": [
             [
              0,
              "#0d0887"
             ],
             [
              0.1111111111111111,
              "#46039f"
             ],
             [
              0.2222222222222222,
              "#7201a8"
             ],
             [
              0.3333333333333333,
              "#9c179e"
             ],
             [
              0.4444444444444444,
              "#bd3786"
             ],
             [
              0.5555555555555556,
              "#d8576b"
             ],
             [
              0.6666666666666666,
              "#ed7953"
             ],
             [
              0.7777777777777778,
              "#fb9f3a"
             ],
             [
              0.8888888888888888,
              "#fdca26"
             ],
             [
              1,
              "#f0f921"
             ]
            ],
            "type": "heatmapgl"
           }
          ],
          "histogram": [
           {
            "marker": {
             "pattern": {
              "fillmode": "overlay",
              "size": 10,
              "solidity": 0.2
             }
            },
            "type": "histogram"
           }
          ],
          "histogram2d": [
           {
            "colorbar": {
             "outlinewidth": 0,
             "ticks": ""
            },
            "colorscale": [
             [
              0,
              "#0d0887"
             ],
             [
              0.1111111111111111,
              "#46039f"
             ],
             [
              0.2222222222222222,
              "#7201a8"
             ],
             [
              0.3333333333333333,
              "#9c179e"
             ],
             [
              0.4444444444444444,
              "#bd3786"
             ],
             [
              0.5555555555555556,
              "#d8576b"
             ],
             [
              0.6666666666666666,
              "#ed7953"
             ],
             [
              0.7777777777777778,
              "#fb9f3a"
             ],
             [
              0.8888888888888888,
              "#fdca26"
             ],
             [
              1,
              "#f0f921"
             ]
            ],
            "type": "histogram2d"
           }
          ],
          "histogram2dcontour": [
           {
            "colorbar": {
             "outlinewidth": 0,
             "ticks": ""
            },
            "colorscale": [
             [
              0,
              "#0d0887"
             ],
             [
              0.1111111111111111,
              "#46039f"
             ],
             [
              0.2222222222222222,
              "#7201a8"
             ],
             [
              0.3333333333333333,
              "#9c179e"
             ],
             [
              0.4444444444444444,
              "#bd3786"
             ],
             [
              0.5555555555555556,
              "#d8576b"
             ],
             [
              0.6666666666666666,
              "#ed7953"
             ],
             [
              0.7777777777777778,
              "#fb9f3a"
             ],
             [
              0.8888888888888888,
              "#fdca26"
             ],
             [
              1,
              "#f0f921"
             ]
            ],
            "type": "histogram2dcontour"
           }
          ],
          "mesh3d": [
           {
            "colorbar": {
             "outlinewidth": 0,
             "ticks": ""
            },
            "type": "mesh3d"
           }
          ],
          "parcoords": [
           {
            "line": {
             "colorbar": {
              "outlinewidth": 0,
              "ticks": ""
             }
            },
            "type": "parcoords"
           }
          ],
          "pie": [
           {
            "automargin": true,
            "type": "pie"
           }
          ],
          "scatter": [
           {
            "fillpattern": {
             "fillmode": "overlay",
             "size": 10,
             "solidity": 0.2
            },
            "type": "scatter"
           }
          ],
          "scatter3d": [
           {
            "line": {
             "colorbar": {
              "outlinewidth": 0,
              "ticks": ""
             }
            },
            "marker": {
             "colorbar": {
              "outlinewidth": 0,
              "ticks": ""
             }
            },
            "type": "scatter3d"
           }
          ],
          "scattercarpet": [
           {
            "marker": {
             "colorbar": {
              "outlinewidth": 0,
              "ticks": ""
             }
            },
            "type": "scattercarpet"
           }
          ],
          "scattergeo": [
           {
            "marker": {
             "colorbar": {
              "outlinewidth": 0,
              "ticks": ""
             }
            },
            "type": "scattergeo"
           }
          ],
          "scattergl": [
           {
            "marker": {
             "colorbar": {
              "outlinewidth": 0,
              "ticks": ""
             }
            },
            "type": "scattergl"
           }
          ],
          "scattermapbox": [
           {
            "marker": {
             "colorbar": {
              "outlinewidth": 0,
              "ticks": ""
             }
            },
            "type": "scattermapbox"
           }
          ],
          "scatterpolar": [
           {
            "marker": {
             "colorbar": {
              "outlinewidth": 0,
              "ticks": ""
             }
            },
            "type": "scatterpolar"
           }
          ],
          "scatterpolargl": [
           {
            "marker": {
             "colorbar": {
              "outlinewidth": 0,
              "ticks": ""
             }
            },
            "type": "scatterpolargl"
           }
          ],
          "scatterternary": [
           {
            "marker": {
             "colorbar": {
              "outlinewidth": 0,
              "ticks": ""
             }
            },
            "type": "scatterternary"
           }
          ],
          "surface": [
           {
            "colorbar": {
             "outlinewidth": 0,
             "ticks": ""
            },
            "colorscale": [
             [
              0,
              "#0d0887"
             ],
             [
              0.1111111111111111,
              "#46039f"
             ],
             [
              0.2222222222222222,
              "#7201a8"
             ],
             [
              0.3333333333333333,
              "#9c179e"
             ],
             [
              0.4444444444444444,
              "#bd3786"
             ],
             [
              0.5555555555555556,
              "#d8576b"
             ],
             [
              0.6666666666666666,
              "#ed7953"
             ],
             [
              0.7777777777777778,
              "#fb9f3a"
             ],
             [
              0.8888888888888888,
              "#fdca26"
             ],
             [
              1,
              "#f0f921"
             ]
            ],
            "type": "surface"
           }
          ],
          "table": [
           {
            "cells": {
             "fill": {
              "color": "#EBF0F8"
             },
             "line": {
              "color": "white"
             }
            },
            "header": {
             "fill": {
              "color": "#C8D4E3"
             },
             "line": {
              "color": "white"
             }
            },
            "type": "table"
           }
          ]
         },
         "layout": {
          "annotationdefaults": {
           "arrowcolor": "#2a3f5f",
           "arrowhead": 0,
           "arrowwidth": 1
          },
          "autotypenumbers": "strict",
          "coloraxis": {
           "colorbar": {
            "outlinewidth": 0,
            "ticks": ""
           }
          },
          "colorscale": {
           "diverging": [
            [
             0,
             "#8e0152"
            ],
            [
             0.1,
             "#c51b7d"
            ],
            [
             0.2,
             "#de77ae"
            ],
            [
             0.3,
             "#f1b6da"
            ],
            [
             0.4,
             "#fde0ef"
            ],
            [
             0.5,
             "#f7f7f7"
            ],
            [
             0.6,
             "#e6f5d0"
            ],
            [
             0.7,
             "#b8e186"
            ],
            [
             0.8,
             "#7fbc41"
            ],
            [
             0.9,
             "#4d9221"
            ],
            [
             1,
             "#276419"
            ]
           ],
           "sequential": [
            [
             0,
             "#0d0887"
            ],
            [
             0.1111111111111111,
             "#46039f"
            ],
            [
             0.2222222222222222,
             "#7201a8"
            ],
            [
             0.3333333333333333,
             "#9c179e"
            ],
            [
             0.4444444444444444,
             "#bd3786"
            ],
            [
             0.5555555555555556,
             "#d8576b"
            ],
            [
             0.6666666666666666,
             "#ed7953"
            ],
            [
             0.7777777777777778,
             "#fb9f3a"
            ],
            [
             0.8888888888888888,
             "#fdca26"
            ],
            [
             1,
             "#f0f921"
            ]
           ],
           "sequentialminus": [
            [
             0,
             "#0d0887"
            ],
            [
             0.1111111111111111,
             "#46039f"
            ],
            [
             0.2222222222222222,
             "#7201a8"
            ],
            [
             0.3333333333333333,
             "#9c179e"
            ],
            [
             0.4444444444444444,
             "#bd3786"
            ],
            [
             0.5555555555555556,
             "#d8576b"
            ],
            [
             0.6666666666666666,
             "#ed7953"
            ],
            [
             0.7777777777777778,
             "#fb9f3a"
            ],
            [
             0.8888888888888888,
             "#fdca26"
            ],
            [
             1,
             "#f0f921"
            ]
           ]
          },
          "colorway": [
           "#636efa",
           "#EF553B",
           "#00cc96",
           "#ab63fa",
           "#FFA15A",
           "#19d3f3",
           "#FF6692",
           "#B6E880",
           "#FF97FF",
           "#FECB52"
          ],
          "font": {
           "color": "#2a3f5f"
          },
          "geo": {
           "bgcolor": "white",
           "lakecolor": "white",
           "landcolor": "#E5ECF6",
           "showlakes": true,
           "showland": true,
           "subunitcolor": "white"
          },
          "hoverlabel": {
           "align": "left"
          },
          "hovermode": "closest",
          "mapbox": {
           "style": "light"
          },
          "paper_bgcolor": "white",
          "plot_bgcolor": "#E5ECF6",
          "polar": {
           "angularaxis": {
            "gridcolor": "white",
            "linecolor": "white",
            "ticks": ""
           },
           "bgcolor": "#E5ECF6",
           "radialaxis": {
            "gridcolor": "white",
            "linecolor": "white",
            "ticks": ""
           }
          },
          "scene": {
           "xaxis": {
            "backgroundcolor": "#E5ECF6",
            "gridcolor": "white",
            "gridwidth": 2,
            "linecolor": "white",
            "showbackground": true,
            "ticks": "",
            "zerolinecolor": "white"
           },
           "yaxis": {
            "backgroundcolor": "#E5ECF6",
            "gridcolor": "white",
            "gridwidth": 2,
            "linecolor": "white",
            "showbackground": true,
            "ticks": "",
            "zerolinecolor": "white"
           },
           "zaxis": {
            "backgroundcolor": "#E5ECF6",
            "gridcolor": "white",
            "gridwidth": 2,
            "linecolor": "white",
            "showbackground": true,
            "ticks": "",
            "zerolinecolor": "white"
           }
          },
          "shapedefaults": {
           "line": {
            "color": "#2a3f5f"
           }
          },
          "ternary": {
           "aaxis": {
            "gridcolor": "white",
            "linecolor": "white",
            "ticks": ""
           },
           "baxis": {
            "gridcolor": "white",
            "linecolor": "white",
            "ticks": ""
           },
           "bgcolor": "#E5ECF6",
           "caxis": {
            "gridcolor": "white",
            "linecolor": "white",
            "ticks": ""
           }
          },
          "title": {
           "x": 0.05
          },
          "xaxis": {
           "automargin": true,
           "gridcolor": "white",
           "linecolor": "white",
           "ticks": "",
           "title": {
            "standoff": 15
           },
           "zerolinecolor": "white",
           "zerolinewidth": 2
          },
          "yaxis": {
           "automargin": true,
           "gridcolor": "white",
           "linecolor": "white",
           "ticks": "",
           "title": {
            "standoff": 15
           },
           "zerolinecolor": "white",
           "zerolinewidth": 2
          }
         }
        }
       }
      }
     },
     "metadata": {},
     "output_type": "display_data"
    }
   ],
   "source": [
    "import plotly.graph_objects as go\n",
    "\n",
    "fig = go.Figure(data=go.Scatter(x=X[:, 0], y=X[:, 1], mode='markers', marker_color=y))\n",
    "\n",
    "# Create a meshgrid of points that covers the feature space\n",
    "h = 0.2\n",
    "x_min, x_max = X_train[:, 0].min() - .5, X_train[:, 0].max() + .5\n",
    "y_min, y_max = X_train[:, 1].min() - .5, X_train[:, 1].max() + .5\n",
    "xx, yy = np.meshgrid(np.arange(x_min, x_max, h), np.arange(y_min, y_max, h))\n",
    "mesh_points = np.vstack([xx.ravel(), yy.ravel(), np.zeros_like(xx.ravel()), np.zeros_like(xx.ravel()), np.zeros_like(xx.ravel()), np.zeros_like(xx.ravel()), np.zeros_like(xx.ravel()), np.zeros_like(xx.ravel()), np.zeros_like(xx.ravel()), np.zeros_like(xx.ravel()), np.zeros_like(xx.ravel()), np.zeros_like(xx.ravel()), np.zeros_like(xx.ravel()), np.zeros_like(xx.ravel()), np.zeros_like(xx.ravel()), np.zeros_like(xx.ravel()), np.zeros_like(xx.ravel()), np.zeros_like(xx.ravel()), np.zeros_like(xx.ravel()), np.zeros_like(xx.ravel()), np.zeros_like(xx.ravel()), np.zeros_like(xx.ravel()), np.zeros_like(xx.ravel()), np.zeros_like(xx.ravel()), np.zeros_like(xx.ravel()), np.zeros_like(xx.ravel()), np.zeros_like(xx.ravel()), np.zeros_like(xx.ravel()), np.zeros_like(xx.ravel()), np.zeros_like(xx.ravel())]).T\n",
    "\n",
    "# Predict the class of each mesh point\n",
    "Z = knn.predict(mesh_points)\n",
    "Z = Z.reshape(xx.shape)\n",
    "\n",
    "# Create a scatter plot of the training data\n",
    "fig = go.Figure(data=go.Scatter(x=X_train[:, 0], y=X_train[:, 1], mode='markers', marker=dict(color=y_train)))\n",
    "\n",
    "# Add the decision boundaries to the plot\n",
    "#fig.add_trace(go.Contour(x=xx[0], y=yy[:, 0], z=Z, colorscale=[[0, 'rgb(255, 255, 255)'], [1, 'rgb(255, 0, 0)']], showscale=False, opacity=0.5))\n",
    "fig.show()\n"
   ]
  },
  {
   "cell_type": "code",
   "execution_count": 107,
   "metadata": {},
   "outputs": [
    {
     "data": {
      "image/png": "[encoded data removed]",
      "text/plain": [
       "<Figure size 640x480 with 1 Axes>"
      ]
     },
     "metadata": {},
     "output_type": "display_data"
    }
   ],
   "source": [
    "# Create a mesh grid of points to plot in\n",
    "xx, yy = np.meshgrid(np.linspace(X[:, 0].min(), X[:, 0].max(), 100),\n",
    "                     np.linspace(X[:, 1].min(), X[:, 1].max(), 100))\n",
    "\n",
    "# Predict the class of each mesh point\n",
    "mesh_points = np.vstack([xx.ravel(), yy.ravel(), np.zeros_like(xx.ravel()), np.zeros_like(xx.ravel()), np.zeros_like(xx.ravel()), np.zeros_like(xx.ravel()), np.zeros_like(xx.ravel()), np.zeros_like(xx.ravel()), np.zeros_like(xx.ravel()), np.zeros_like(xx.ravel()), np.zeros_like(xx.ravel()), np.zeros_like(xx.ravel()), np.zeros_like(xx.ravel()), np.zeros_like(xx.ravel()), np.zeros_like(xx.ravel()), np.zeros_like(xx.ravel()), np.zeros_like(xx.ravel()), np.zeros_like(xx.ravel()), np.zeros_like(xx.ravel()), np.zeros_like(xx.ravel()), np.zeros_like(xx.ravel()), np.zeros_like(xx.ravel()), np.zeros_like(xx.ravel()), np.zeros_like(xx.ravel()), np.zeros_like(xx.ravel()), np.zeros_like(xx.ravel()), np.zeros_like(xx.ravel()), np.zeros_like(xx.ravel()), np.zeros_like(xx.ravel()), np.zeros_like(xx.ravel())]).T\n",
    "Z = knn.predict(mesh_points)\n",
    "Z = Z.reshape(xx.shape)\n",
    "\n",
    "# Create a scatter plot of the training data\n",
    "plt.scatter(X[:, 0], X[:, 1], c=y, cmap='coolwarm', alpha=0.5)\n",
    "\n",
    "# Plot the decision boundary and decision region\n",
    "plt.contourf(xx, yy, Z, alpha=0.1, cmap='coolwarm')\n",
    "plt.contour(xx, yy, Z, colors='k')\n",
    "\n",
    "plt.xlabel(data.feature_names[0])\n",
    "plt.ylabel(data.feature_names[1])\n",
    "plt.title('Breast Cancer Data')\n",
    "\n",
    "plt.show()"
   ]
  },
  {
   "cell_type": "code",
   "execution_count": 108,
   "metadata": {},
   "outputs": [
    {
     "data": {
      "application/vnd.plotly.v1+json": {
       "config": {
        "plotlyServerURL": "https://plot.ly"
       },
       "data": [
        {
         "marker": {
          "color": [
           1,
           0,
           1,
           1,
           1,
           0,
           1,
           1,
           1,
           0,
           1,
           0,
           0,
           1,
           1,
           0,
           0,
           0,
           1,
           1,
           1,
           0,
           1,
           1,
           1,
           0,
           1,
           0,
           1,
           1,
           0,
           1,
           0,
           0,
           0,
           1,
           0,
           1,
           1,
           1,
           1,
           0,
           0,
           1,
           1,
           1,
           1,
           1,
           1,
           1,
           0,
           1,
           1,
           1,
           1,
           0,
           1,
           1,
           1,
           1,
           1,
           1,
           0,
           1,
           1,
           1,
           1,
           1,
           1,
           0,
           0,
           0,
           1,
           1,
           0,
           1,
           0,
           1,
           1,
           1,
           1,
           0,
           1,
           1,
           0,
           1,
           1,
           1,
           0,
           1,
           0,
           0,
           1,
           1,
           1,
           0,
           1,
           1,
           1,
           1,
           0,
           1,
           1,
           1,
           1,
           1,
           0,
           1,
           0,
           0,
           1,
           1,
           0,
           1,
           1,
           1,
           1,
           1,
           1,
           1,
           0,
           0,
           0,
           1,
           1,
           0,
           1,
           1,
           0,
           1,
           0,
           1,
           0,
           1,
           0,
           1,
           1,
           0,
           1,
           1,
           1,
           0,
           1,
           0,
           1,
           0,
           1,
           0,
           1,
           1,
           0,
           1,
           1,
           1,
           1,
           0,
           1,
           1,
           1,
           0,
           1,
           1,
           0,
           1,
           1,
           0,
           1,
           1,
           1,
           1,
           1,
           1,
           1,
           0,
           1,
           1,
           1,
           0,
           1,
           0,
           1,
           1,
           1,
           0,
           1,
           0,
           0,
           1,
           1,
           0,
           1,
           0,
           0,
           0,
           1,
           1,
           1,
           0,
           1,
           1,
           0,
           1,
           0,
           1,
           1,
           1,
           0,
           1,
           0,
           1,
           1,
           0,
           0,
           1,
           1,
           0,
           1,
           0,
           0,
           1,
           0,
           0,
           1,
           1,
           0,
           0,
           0,
           1,
           1,
           1,
           1,
           0,
           1,
           0,
           0,
           0,
           0,
           1,
           1,
           1,
           1,
           1,
           1,
           1,
           1,
           0,
           0,
           1,
           1,
           0,
           1,
           1,
           1,
           1,
           1,
           0,
           1,
           1,
           0,
           0,
           1,
           0,
           1,
           0,
           1,
           1,
           1,
           1,
           1,
           1,
           0,
           1,
           1,
           0,
           1,
           1,
           1,
           1,
           1,
           1,
           0,
           1,
           1,
           0,
           1,
           0,
           0,
           0,
           1,
           0,
           1,
           1,
           0,
           0,
           0,
           1,
           1,
           1,
           1,
           1,
           1,
           1,
           0,
           1,
           1,
           1,
           0,
           1,
           1,
           0,
           0,
           1,
           0,
           1,
           0,
           0,
           1,
           1,
           0,
           1,
           0,
           0,
           1,
           0,
           0,
           1,
           1,
           0,
           1,
           0,
           1,
           1,
           0,
           1,
           1,
           0,
           0,
           0,
           1,
           1,
           1,
           0,
           0,
           1,
           0,
           0,
           1,
           1,
           1,
           0,
           1,
           0,
           0,
           0,
           0,
           1,
           1,
           0,
           1,
           1,
           0,
           0,
           0,
           0,
           0,
           0,
           1,
           1,
           1,
           1,
           1,
           1,
           1,
           0,
           0,
           0,
           0,
           1,
           1,
           1,
           1,
           0,
           1,
           0,
           1,
           1,
           1,
           1,
           1,
           0,
           0,
           0,
           1,
           1,
           0,
           1,
           1,
           0,
           0,
           0,
           0,
           1,
           1,
           0,
           0,
           1,
           1,
           1,
           0,
           0,
           0,
           1,
           1,
           0,
           1,
           1,
           1,
           1,
           0,
           1,
           1,
           1,
           1,
           1,
           1,
           1,
           1,
           1,
           0,
           1,
           1,
           1,
           1,
           1,
           1,
           0,
           1,
           1,
           0,
           1,
           1,
           0,
           0,
           0,
           1,
           0,
           0,
           1,
           0,
           1,
           1,
           1,
           1,
           0,
           1
          ]
         },
         "mode": "markers",
         "type": "scatter",
         "x": [
          -1.4479872302630423,
          1.9775079895463534,
          -1.407089186016914,
          -0.9876002182979455,
          -1.1239270324517066,
          0.11721500473982457,
          0.08029315923984795,
          -0.7660691452980842,
          -0.533177504452076,
          1.6366909541619514,
          -0.5019359428751726,
          1.9803481315078906,
          0.2109396894705352,
          -1.2667861731170018,
          -0.20656117887535716,
          1.4606021525466766,
          1.0970639814699807,
          0.31034465812431955,
          0.03769102981679758,
          -0.6893853123365938,
          0.32454536793200267,
          0.3444263616627596,
          -0.17531961729845377,
          -1.035882631644069,
          0.14561642435519184,
          0.09165372708599445,
          -0.8768346817980152,
          1.6139698184696574,
          -1.0983657547978765,
          -0.35140841891372804,
          -0.20656117887535716,
          -0.3315274251829711,
          1.0289005743931006,
          1.832660749507982,
          0.3273855098935393,
          -0.0986357843369634,
          0.2762629545858791,
          -0.5076162267982459,
          -1.684571055659048,
          -0.19236046906767404,
          -0.7973107068749876,
          2.312644741007682,
          1.4975239980466533,
          -1.8084012451820475,
          0.20809954750899856,
          -0.8512734041441845,
          -1.251733420720857,
          -1.2841110390823756,
          -1.1494883101055366,
          -0.44513310364443864,
          0.28478338047048946,
          -1.035882631644069,
          -0.38264998049063187,
          0.17401784397055858,
          -1.1994748086285822,
          -0.0872752164908164,
          -0.35140841891372804,
          -0.10999635218310991,
          -0.21508160475996752,
          0.15981713416287496,
          -0.34572813499065475,
          -0.1440780557215504,
          0.9152948959316337,
          0.24786153497051233,
          -0.6609838927212266,
          0.11437486277828796,
          -0.11851677806771978,
          -0.7859501390288411,
          -1.5340435316976035,
          0.5631172927010841,
          1.239071079546815,
          -0.11851677806771978,
          0.0973340110090682,
          -0.16679919141384392,
          0.37850806520120006,
          -0.362768986759875,
          1.4435613007774568,
          -0.47069438129826874,
          -0.4735345232598054,
          -0.9279572371056753,
          -0.7831099970673044,
          1.329955622315989,
          -0.18099990122152704,
          -1.2951875927323686,
          0.8556519147393631,
          -0.8711543978749413,
          0.13709599847058146,
          -1.8279982247166506,
          1.4037993133159432,
          -0.12419706199079353,
          1.4293605909697733,
          1.6111296765081213,
          -0.7575487194134739,
          -0.5871402017212729,
          -0.2775647279137743,
          -0.14691819768308703,
          -1.0983657547978765,
          -1.361646914632327,
          -0.8711543978749413,
          -0.9847600763364088,
          -0.6496233248750801,
          -1.0273622057594591,
          -0.41389154206753526,
          -0.8654741139518681,
          -0.8768346817980152,
          -0.48205494914441577,
          0.1654974180859487,
          0.2109396894705352,
          0.7164849586240649,
          0.5687975766241574,
          -0.3570887028368018,
          -1.3241570407400427,
          2.1649573590077744,
          -0.27472458595223764,
          -0.9137565272979917,
          -0.533177504452076,
          -0.39117040637524175,
          0.12857557258597158,
          -0.5274972205290027,
          -0.5587387821059061,
          0.04053117177833421,
          0.2649023867397326,
          3.718515011968341,
          -0.3230069992983613,
          -0.24348302437533428,
          1.9973889832771101,
          -0.07307450668313328,
          -0.07307450668313328,
          1.7133747871234417,
          -0.15259848160616027,
          -0.47637466522134253,
          -1.4704243517591822,
          1.284513350931402,
          -0.13555762983694003,
          0.4211101946242499,
          -0.7547085774519372,
          0.08313330120138458,
          0.15697699220133832,
          -0.5899803436828095,
          -1.262241945978543,
          -0.8967156755287715,
          -0.7689092872596208,
          -0.4508133875675124,
          0.832930779047069,
          0.06041216550909108,
          0.12857557258597158,
          -0.6723444605673736,
          -0.36844927068294825,
          -0.31164643145221477,
          0.7704476558932623,
          1.8042593298926157,
          -0.260523876144554,
          -1.5496643124860556,
          -0.6411028989904702,
          -0.38833026441370516,
          0.20809954750899856,
          -0.4195718259906085,
          -0.8001508488365242,
          -0.6212219052597133,
          0.9493765994700731,
          0.23650096712436583,
          -0.7177867319519606,
          -0.5076162267982459,
          -1.248609264563167,
          -0.8115114166826712,
          1.6934937933926848,
          -0.030472377260082912,
          -1.0273622057594591,
          -1.207427206120885,
          -0.7263071578365705,
          -0.5161366526828558,
          -0.1327174878754034,
          -1.081324903028656,
          1.0857034136238342,
          -0.5445380722982225,
          -0.5445380722982225,
          -0.3570887028368018,
          0.7278455264702124,
          -0.5530584981828329,
          0.6312806997779652,
          0.673882829201015,
          -0.5928204856443466,
          -1.1580087359901465,
          0.034850887855260956,
          -0.8086712747211346,
          0.90109418612395,
          1.835500891469519,
          -1.5647170648821997,
          -0.4252521099136818,
          0.6085595640856711,
          -0.4508133875675124,
          0.898254044162413,
          1.1084245493161282,
          -0.6723444605673736,
          -0.32016685733682465,
          -1.001800928105629,
          -0.7121064480288873,
          0.24502139300897569,
          -0.6354226150673965,
          -1.4562236419514987,
          1.4350408748928465,
          -1.4442950457130446,
          -0.6609838927212266,
          -0.06455408079852291,
          0.23366082516282868,
          -0.1895203271061369,
          3.295333859699375,
          0.10585443689367809,
          2.9829182439303397,
          -0.5530584981828329,
          -0.3485682769521914,
          0.946536457508537,
          1.5088845658928007,
          -1.2327044695785612,
          -0.5473782142597596,
          1.8014191879310786,
          -0.6467831829135435,
          1.719055071046515,
          2.874992849391946,
          -0.7717494292211575,
          2.602339221084424,
          1.764497342431102,
          -0.26336401810609117,
          0.5801581444703049,
          1.7928987620464691,
          1.332795764277526,
          2.153596791161628,
          -0.47637466522134253,
          -0.6183817632981767,
          -0.07875479060620653,
          0.30182423223970917,
          0.4608721820857637,
          -0.8711543978749413,
          1.1623872465853244,
          1.5344458435466308,
          1.6082895345465842,
          0.26206224477819595,
          -0.8484332621826479,
          -0.3372077091060449,
          -0.25200345025994414,
          -0.30596614752914103,
          -0.07875479060620653,
          -0.2349625984907239,
          -0.39969083225985164,
          -0.6041810534904931,
          1.5514866953158506,
          1.8497016012772027,
          0.03769102981679758,
          -0.37412955460602154,
          0.8386110629701423,
          -1.3411978925092631,
          -0.9052361014133818,
          -1.5706813630014271,
          -1.6780387291475138,
          -1.010321353990239,
          1.812779755777226,
          -0.26336401810609117,
          -0.49341551699056224,
          2.5966589371613504,
          1.1623872465853244,
          -0.6865451703750568,
          1.1226252591238108,
          -0.024792093337009664,
          0.43531090443193354,
          -0.8257121264903544,
          -0.62406204722125,
          -0.7717494292211575,
          -0.39969083225985164,
          -1.010321353990239,
          -0.24348302437533428,
          1.1027442653930548,
          -1.343470006078492,
          0.17969812789363182,
          1.3839183195851863,
          -0.7433480096057907,
          -0.4394528197213654,
          -1.2156636178093414,
          -1.2642300453516186,
          -0.5019359428751726,
          -0.7092663060673502,
          1.0743428457776876,
          0.44951161423961716,
          0.19105869573977882,
          -0.271884443990701,
          0.23934110908590245,
          0.18537841181670509,
          0.6000391382010608,
          1.2305506536622055,
          -0.8029909907980609,
          1.1879485242391545,
          0.22514039927821883,
          -0.9165966692595283,
          1.4322007329313104,
          0.742046236277895,
          0.33306579381661305,
          -0.5132965107213191,
          -0.7660691452980842,
          -0.6950655962596671,
          -0.8427529782595746,
          0.11437486277828796,
          -0.16111890749077015,
          -0.7916304229519143,
          1.741776206738809,
          -0.13839777179847665,
          -0.13839777179847665,
          0.1314157145475082,
          0.4608721820857637,
          -1.2665021589208483,
          -0.317326715375288,
          0.602879280162598,
          -0.9023959594518453,
          -1.5780657321014224,
          0.37850806520120006,
          -1.207427206120885,
          0.38702849108580994,
          1.4975239980466533,
          -1.4908733738822462,
          -0.37696969656755813,
          1.5117247078543368,
          -0.5416979303366859,
          1.7502966326234184,
          1.5401261274697042,
          -0.8995558174903081,
          0.21946011535514556,
          -0.14691819768308703,
          -1.047243199490216,
          -0.35424856087526463,
          0.9351758896623905,
          -1.332393452428499,
          -0.19804075299074728,
          -0.7177867319519606,
          -0.33436756714450827,
          -0.07591464864466992,
          -1.5703973488052732,
          0.5716377185856946,
          -0.271884443990701,
          0.8215702112009226,
          0.38986863304734654,
          -0.15259848160616027,
          -0.5956606276058832,
          -0.5388577883751493,
          1.2277105117006684,
          1.2731527830852554,
          -0.749028293528864,
          0.8300906370855329,
          1.7559769165464916,
          -0.1327174878754034,
          -0.8143515586442078,
          -0.4053711161829254,
          1.5514866953158506,
          -1.5317714181283744,
          1.1879485242391545,
          0.23366082516282868,
          0.034850887855260956,
          -0.3854901224521685,
          0.2762629545858791,
          -0.3854901224521685,
          -0.32016685733682465,
          -0.0049110996062527905,
          -0.6865451703750568,
          -0.41105140010599867,
          1.5344458435466308,
          -0.11283649414464653,
          1.0090195806623439,
          -0.19520061102921066,
          -0.8654741139518681,
          -0.6865451703750568,
          -0.4735345232598054,
          -0.6354226150673965,
          -0.5274972205290027,
          -0.07875479060620653,
          -0.6212219052597133,
          -0.8143515586442078,
          1.3185950544698424,
          2.5796180853921307,
          0.8187300692393864,
          3.971287646545106,
          -0.10147592629850004,
          -0.6922254542981305,
          -0.7461881515673273,
          -0.021951951375472536,
          3.7753178511990755,
          -0.2122414627984304,
          0.7022842488163823,
          -1.0330424896825325,
          -0.7007458801827404,
          -0.9705593665287252,
          -0.12135692002925691,
          -0.6070211954520297,
          0.96925759320083,
          1.4378810168543836,
          -0.24064288241379767,
          -1.1154066065670967,
          -0.62406204722125,
          0.026330461970651087,
          0.020650178047577333,
          -0.30596614752914103,
          0.3983890589319564,
          -0.28892529575992126,
          1.5401261274697042,
          1.8298206075464458,
          -0.5843000597597362,
          -0.760388861375011,
          0.2819432385089523,
          0.5687975766241574,
          0.6170799899702816,
          -0.9449980888748951,
          -0.4280922518752189,
          1.7247353549695883,
          0.3529467875473694,
          2.6648223442382317,
          -1.0983657547978765,
          -0.4848950911059524,
          0.48927360170113043,
          -0.4650140973751955,
          -0.07023436472159615,
          -1.2454851084054763,
          -0.9449980888748951,
          1.9292255762002302,
          0.45519189816269046,
          -0.35424856087526463,
          -1.3801078373823152,
          -0.10715621022157329,
          -0.5189767946443924,
          -0.36844927068294825,
          -0.6780247444904469,
          -0.30596614752914103,
          -0.9222769531826016,
          1.5912486827773644,
          -1.3130804870900499,
          -0.7348275837211808,
          -1.2417929238554786,
          -0.6751846025289102,
          -0.794470564913451,
          -0.3854901224521685,
          0.13425585650904484,
          0.24502139300897569,
          1.0573019940084678,
          1.5770479729696807,
          -0.1781597592599904,
          -0.5502183562212962,
          0.08313330120138458,
          2.0570319644693806,
          1.3895986035082595,
          -0.32016685733682465,
          0.5403961570087912,
          0.017810036086040707,
          -0.2804048698753109,
          1.287353492892939,
          -0.29744572164453115,
          -1.4880332319207095,
          -0.7064261641058136,
          0.04621145570140746,
          -0.04183294510622941,
          -0.5530584981828329
         ],
         "y": [
          -0.4560233618080422,
          1.6941866630408013,
          -1.263515654689588,
          1.3800326009687298,
          -1.0261548077906895,
          1.9199121743074004,
          0.10247274854230713,
          -0.9074743843412403,
          -0.3140722670939945,
          0.2258073062446761,
          0.584175643719483,
          0.2863110515326301,
          -0.6096097921543874,
          -0.1860835751387069,
          -0.5444519126135139,
          1.670915991776203,
          -2.0733350146975935,
          2.636648849257015,
          -0.2605497231854193,
          -0.04180541329819989,
          -1.4845870317032674,
          -1.1704329696311964,
          -0.09300089008031492,
          0.13272462118628411,
          -0.9423803912381372,
          0.21649903773883633,
          -0.5723767181310315,
          0.6656229931455752,
          -1.6451546634289926,
          -1.4357186220476121,
          0.2863110515326301,
          -0.23262491766790247,
          2.0339384635039304,
          0.6632959260191158,
          0.7261267384335299,
          -0.8143916992828492,
          0.6353711205015982,
          -1.0098653379054712,
          -0.5700496510045714,
          -0.2302978505414423,
          1.8128670864902499,
          0.0885103457835487,
          0.9797770552176467,
          1.2217920363694643,
          -0.5467789797399732,
          -0.6212451277866864,
          -0.24891438755312104,
          -0.5700496510045714,
          -0.9726322638821147,
          -0.05111368180403884,
          2.448156412013772,
          -1.0028841365260917,
          -0.6514970004306643,
          1.426573943497926,
          -0.2861474615764777,
          1.2101567007371652,
          -1.2053389765280933,
          -0.3210534684733741,
          -0.6747676716952616,
          -1.2355908491720702,
          -0.6887300744540209,
          0.9169462428032326,
          0.8773861016534158,
          -0.8795495788237231,
          -0.47231283169325994,
          -1.2355908491720702,
          -0.14186929973597065,
          -0.4001737507730069,
          -0.8050834307770098,
          -0.288474528702937,
          -0.41180908640530595,
          0.3584501324528832,
          1.3265100570601545,
          -1.1471622983665986,
          -1.7219478786021658,
          0.4841117572817123,
          -0.16746703812702818,
          -0.4606774960609617,
          0.13970582256566375,
          0.5097094956727698,
          -0.09300089008031492,
          0.1606494267038018,
          0.7005290000424724,
          -0.7864668937653315,
          -0.6724406045688023,
          -1.0377901434229886,
          -0.837662370547447,
          1.4312280777508457,
          1.2846228487838784,
          -0.7492338197419749,
          1.7011678644201809,
          0.5283260326844477,
          -0.2628767903118795,
          -0.0906738229538556,
          -0.9191097199735394,
          1.2566980432663617,
          -0.6305533962925262,
          0.6167545834899202,
          -0.5048917714636971,
          -0.9633239953762752,
          -0.13721516548305118,
          0.20951783635945753,
          -0.463004563187421,
          -1.0657149489405058,
          -1.0145194721583908,
          -0.5328165769812148,
          0.5353072340638273,
          0.214171970612377,
          0.4864388244081716,
          0.3235441255559867,
          -0.7166548799715378,
          0.4003373407291601,
          0.3956832064762398,
          0.2909651857855496,
          -1.6149027907850158,
          0.7331079398129096,
          -0.6026285907750085,
          -1.3100569972187834,
          2.4853894860371284,
          -0.2931286629558565,
          0.7587056782039671,
          0.1257434198069045,
          0.6004651136047017,
          -1.1774141710105757,
          -1.054079613308207,
          0.8727319674004963,
          0.3281982598089062,
          -0.7166548799715378,
          0.08618327865708855,
          -0.3373429383585927,
          -0.8353353034209873,
          -0.8213729006622283,
          -0.39319254939362724,
          -1.426410353541773,
          0.02102539911621426,
          -0.7585420882478138,
          -0.6398616647983651,
          0.19555543360069827,
          -1.084331485952184,
          0.01171713061037531,
          -0.4862752344520192,
          0.25373211176219296,
          -0.6910571415804803,
          0.39801027360269997,
          -1.3542712726215194,
          0.5213448313050689,
          0.5376343011902875,
          0.7075102014218512,
          -0.20237304502392464,
          0.039641936127892984,
          0.5050553614198503,
          2.040919664883309,
          -1.1262186942284607,
          0.5236718984315283,
          -1.3775419438861176,
          0.9122921085503131,
          -0.2605497231854193,
          -0.05809488318341846,
          0.3421606625676654,
          1.2543709761399013,
          -0.044132480424659205,
          -0.2163354477826839,
          1.7616716097081349,
          -0.9191097199735394,
          -0.8818766459501828,
          1.0635514717701988,
          -0.8446435719268262,
          0.8843673030327953,
          0.025679533369133735,
          -0.05809488318341846,
          -0.6445157990512846,
          -0.037151279045280414,
          -0.6840759402011006,
          0.16763062808318144,
          -1.2099931107810127,
          -0.2954557300823166,
          0.05825847313957088,
          0.21184490348591684,
          -1.2123201779074726,
          0.9309086455619909,
          -0.23262491766790247,
          2.059536201894988,
          -0.4094820192788458,
          0.5655591067078043,
          -1.3728878096331978,
          -0.5142000399695369,
          0.45385988463773447,
          -1.7452185498667638,
          0.3421606625676654,
          0.33052532693536635,
          -0.2838203944500175,
          0.6609688588926557,
          -0.5677225838781113,
          -0.26753092456479893,
          0.3468147968205849,
          -0.07903848732155651,
          -0.25822265605896,
          1.3753784667158102,
          0.43757041475251673,
          -1.1378540298607593,
          0.7447432754452078,
          -0.0906738229538556,
          -0.6305533962925262,
          -0.011553540654222887,
          -0.1209256955978326,
          2.0758256717802066,
          -0.4257714891640644,
          -1.9546545912481443,
          0.5376343011902875,
          -0.3373429383585927,
          -0.7841398266388717,
          4.651888980771191,
          -0.1092903599655335,
          0.15134115819796284,
          -0.9493615926175164,
          0.3212170584295274,
          -0.4257714891640644,
          0.05825847313957088,
          0.21184490348591684,
          -1.0168465392848505,
          1.7174573343053994,
          0.5166906970521494,
          -0.432752690543444,
          -0.7492338197419749,
          0.5795215094665636,
          0.623735784869299,
          -0.4746398988197201,
          -0.6701135374423421,
          -1.007538270779011,
          -0.48394816732555906,
          -1.4147750179094738,
          0.22348023911821593,
          -1.007538270779011,
          -0.13721516548305118,
          3.0671562676520754,
          1.3567619297041325,
          -0.05111368180403884,
          -1.2146472450339323,
          -0.7259631484773766,
          0.19555543360069827,
          -0.1628129038741087,
          0.07222087589833014,
          0.5306530998109079,
          -1.2821321917012662,
          2.080479806033126,
          1.3288371241866146,
          -0.4513692275551219,
          0.0838562115306284,
          -1.4496810248063707,
          1.8291565563754686,
          0.5609049724548849,
          -0.1628129038741087,
          -0.16048583674764855,
          0.3281982598089062,
          -0.22564371628852284,
          1.9827429867218145,
          -0.8074104979034695,
          -0.4211173549111449,
          0.6400252547545175,
          -0.0976550243332344,
          -0.6096097921543874,
          0.593483912225322,
          -0.7701774238801129,
          0.9099650414238529,
          3.3789832625976874,
          0.5213448313050689,
          -1.9709440611333628,
          -0.3769030795084087,
          0.21649903773883633,
          -0.5281624427282953,
          0.295619320038469,
          0.5562508382019654,
          -1.0587337475611265,
          -0.08834675582739546,
          1.0798409416554173,
          -0.20702717927684494,
          -0.8399894376739067,
          -1.4310644877946923,
          -0.1744482395064078,
          2.327148921437863,
          0.4026644078556194,
          -1.2472261848043693,
          -0.3792301466348688,
          0.5865027108459424,
          -0.5444519126135139,
          1.0821680087818775,
          -0.1209256955978326,
          -0.17910237375932728,
          -0.25589558893249986,
          -0.16513997100056885,
          -1.0145194721583908,
          -1.4729516960709685,
          1.2822957816574192,
          0.5353072340638273,
          1.3916679366010287,
          -1.6055945222791763,
          -0.4606774960609617,
          -0.7259631484773766,
          0.49342002578755123,
          0.01171713061037531,
          -1.2542073861837486,
          -0.15815876962118922,
          0.8704049002740369,
          -0.6864030073275608,
          -0.858605974685585,
          0.7889575508479441,
          -0.016207674907142363,
          -0.27683919307063787,
          0.6819124630307937,
          0.05127727176019208,
          0.4794576230287928,
          -1.4403727563005317,
          1.084495075908337,
          -0.46998576456680063,
          0.15832235957734164,
          -0.25822265605896,
          -0.8842037130766426,
          -0.4257714891640644,
          0.00939006348391516,
          0.17461182946256024,
          -1.1518164326195182,
          2.2061414308619542,
          -0.38853841514070775,
          0.7540515439510476,
          1.3241829899336952,
          -0.8911849144560218,
          -0.24891438755312104,
          1.4591528832683625,
          -0.22564371628852284,
          0.07920207727770893,
          -1.5008765015884862,
          -0.760869155374274,
          -0.5491060468664334,
          0.3933561393497805,
          -1.0308089420436093,
          -0.14652343398889012,
          1.0914762772877165,
          0.41662681061437784,
          0.593483912225322,
          -0.3163993342204547,
          0.06291260739249036,
          0.6097733821105406,
          0.22348023911821593,
          -1.0936397544580234,
          -0.04878661467757951,
          1.8082129522373305,
          -0.9633239953762752,
          0.1559952924508823,
          -1.6567899990612918,
          -0.26520385743833963,
          -0.5700496510045714,
          0.3002734542913885,
          -0.4001737507730069,
          0.6656229931455752,
          0.7400891411922883,
          -0.6747676716952616,
          2.3597278612083,
          0.5888297779724025,
          -1.4915682330826467,
          -0.8935119815824819,
          1.0588973375172794,
          -0.0906738229538556,
          0.7726680809627255,
          0.33750652831474515,
          0.5329801669373672,
          -0.10696329283907419,
          -0.4886023015784785,
          -1.5032035687149459,
          -0.2186625149091432,
          -0.318726401346914,
          -0.956342793996896,
          -0.24426025330020157,
          0.1257434198069045,
          0.4980741600404707,
          1.7872693480991924,
          0.2258073062446761,
          -0.19073770939162638,
          -1.4008126151507154,
          1.198521365104867,
          -0.19539184364454584,
          1.8291565563754686,
          1.6243746492470075,
          2.6599195205216124,
          2.045573799136229,
          -0.15815876962118922,
          -0.5165271070959963,
          0.2560591788886531,
          -0.3838842808877883,
          1.303239385795557,
          0.007062996357455837,
          -0.7794856923859523,
          0.23046144049759557,
          -0.4211173549111449,
          -1.950000456995225,
          0.891348504412175,
          0.2886381186590902,
          -1.2681697889425074,
          3.320806584436193,
          -0.867914243191424,
          0.9122921085503131,
          -0.35363240824381126,
          -1.3612524740008989,
          0.39102907222332034,
          -0.607282725027928,
          -0.32803466985275376,
          -0.8353353034209873,
          0.6260628519957592,
          -0.49791057008431827,
          1.7546904083287553,
          0.8075740878596228,
          1.1589612239550502,
          -1.0657149489405058,
          -0.9889217337673332,
          1.084495075908337,
          -0.5677225838781113,
          -0.7282902156038368,
          -0.8423165048003665,
          -2.229248512170399,
          1.3497807283247527,
          -1.863898973316213,
          2.2410474377588514,
          -1.4938953002091069,
          1.0426078676320607,
          -0.7887939608917912,
          -0.8283541020416076,
          -1.0703690831934256,
          0.004735929230995686,
          -0.8539518404326656,
          0.12341635268044518,
          -1.5939591866468776,
          -1.9942147323979607,
          2.0734986046537465,
          0.20719076923299737,
          -1.1937036408957942,
          0.49342002578755123,
          0.9309086455619909,
          0.6563147246397362,
          -1.4101208836565542,
          0.5562508382019654,
          -1.531128374232463,
          -1.3961584808977958,
          0.11178101704814608,
          -0.9749593310085743,
          1.2334273720017634,
          1.3590889968305917,
          -0.8795495788237231,
          1.0519161361378997,
          0.33750652831474515,
          -0.5048917714636971,
          -0.833008236294527,
          -1.0820044188257243,
          -0.2233166491620635,
          -0.5747037852574909,
          0.0768750101512496,
          0.2863110515326301
         ]
        }
       ],
       "layout": {
        "template": {
         "data": {
          "bar": [
           {
            "error_x": {
             "color": "#2a3f5f"
            },
            "error_y": {
             "color": "#2a3f5f"
            },
            "marker": {
             "line": {
              "color": "#E5ECF6",
              "width": 0.5
             },
             "pattern": {
              "fillmode": "overlay",
              "size": 10,
              "solidity": 0.2
             }
            },
            "type": "bar"
           }
          ],
          "barpolar": [
           {
            "marker": {
             "line": {
              "color": "#E5ECF6",
              "width": 0.5
             },
             "pattern": {
              "fillmode": "overlay",
              "size": 10,
              "solidity": 0.2
             }
            },
            "type": "barpolar"
           }
          ],
          "carpet": [
           {
            "aaxis": {
             "endlinecolor": "#2a3f5f",
             "gridcolor": "white",
             "linecolor": "white",
             "minorgridcolor": "white",
             "startlinecolor": "#2a3f5f"
            },
            "baxis": {
             "endlinecolor": "#2a3f5f",
             "gridcolor": "white",
             "linecolor": "white",
             "minorgridcolor": "white",
             "startlinecolor": "#2a3f5f"
            },
            "type": "carpet"
           }
          ],
          "choropleth": [
           {
            "colorbar": {
             "outlinewidth": 0,
             "ticks": ""
            },
            "type": "choropleth"
           }
          ],
          "contour": [
           {
            "colorbar": {
             "outlinewidth": 0,
             "ticks": ""
            },
            "colorscale": [
             [
              0,
              "#0d0887"
             ],
             [
              0.1111111111111111,
              "#46039f"
             ],
             [
              0.2222222222222222,
              "#7201a8"
             ],
             [
              0.3333333333333333,
              "#9c179e"
             ],
             [
              0.4444444444444444,
              "#bd3786"
             ],
             [
              0.5555555555555556,
              "#d8576b"
             ],
             [
              0.6666666666666666,
              "#ed7953"
             ],
             [
              0.7777777777777778,
              "#fb9f3a"
             ],
             [
              0.8888888888888888,
              "#fdca26"
             ],
             [
              1,
              "#f0f921"
             ]
            ],
            "type": "contour"
           }
          ],
          "contourcarpet": [
           {
            "colorbar": {
             "outlinewidth": 0,
             "ticks": ""
            },
            "type": "contourcarpet"
           }
          ],
          "heatmap": [
           {
            "colorbar": {
             "outlinewidth": 0,
             "ticks": ""
            },
            "colorscale": [
             [
              0,
              "#0d0887"
             ],
             [
              0.1111111111111111,
              "#46039f"
             ],
             [
              0.2222222222222222,
              "#7201a8"
             ],
             [
              0.3333333333333333,
              "#9c179e"
             ],
             [
              0.4444444444444444,
              "#bd3786"
             ],
             [
              0.5555555555555556,
              "#d8576b"
             ],
             [
              0.6666666666666666,
              "#ed7953"
             ],
             [
              0.7777777777777778,
              "#fb9f3a"
             ],
             [
              0.8888888888888888,
              "#fdca26"
             ],
             [
              1,
              "#f0f921"
             ]
            ],
            "type": "heatmap"
           }
          ],
          "heatmapgl": [
           {
            "colorbar": {
             "outlinewidth": 0,
             "ticks": ""
            },
            "colorscale": [
             [
              0,
              "#0d0887"
             ],
             [
              0.1111111111111111,
              "#46039f"
             ],
             [
              0.2222222222222222,
              "#7201a8"
             ],
             [
              0.3333333333333333,
              "#9c179e"
             ],
             [
              0.4444444444444444,
              "#bd3786"
             ],
             [
              0.5555555555555556,
              "#d8576b"
             ],
             [
              0.6666666666666666,
              "#ed7953"
             ],
             [
              0.7777777777777778,
              "#fb9f3a"
             ],
             [
              0.8888888888888888,
              "#fdca26"
             ],
             [
              1,
              "#f0f921"
             ]
            ],
            "type": "heatmapgl"
           }
          ],
          "histogram": [
           {
            "marker": {
             "pattern": {
              "fillmode": "overlay",
              "size": 10,
              "solidity": 0.2
             }
            },
            "type": "histogram"
           }
          ],
          "histogram2d": [
           {
            "colorbar": {
             "outlinewidth": 0,
             "ticks": ""
            },
            "colorscale": [
             [
              0,
              "#0d0887"
             ],
             [
              0.1111111111111111,
              "#46039f"
             ],
             [
              0.2222222222222222,
              "#7201a8"
             ],
             [
              0.3333333333333333,
              "#9c179e"
             ],
             [
              0.4444444444444444,
              "#bd3786"
             ],
             [
              0.5555555555555556,
              "#d8576b"
             ],
             [
              0.6666666666666666,
              "#ed7953"
             ],
             [
              0.7777777777777778,
              "#fb9f3a"
             ],
             [
              0.8888888888888888,
              "#fdca26"
             ],
             [
              1,
              "#f0f921"
             ]
            ],
            "type": "histogram2d"
           }
          ],
          "histogram2dcontour": [
           {
            "colorbar": {
             "outlinewidth": 0,
             "ticks": ""
            },
            "colorscale": [
             [
              0,
              "#0d0887"
             ],
             [
              0.1111111111111111,
              "#46039f"
             ],
             [
              0.2222222222222222,
              "#7201a8"
             ],
             [
              0.3333333333333333,
              "#9c179e"
             ],
             [
              0.4444444444444444,
              "#bd3786"
             ],
             [
              0.5555555555555556,
              "#d8576b"
             ],
             [
              0.6666666666666666,
              "#ed7953"
             ],
             [
              0.7777777777777778,
              "#fb9f3a"
             ],
             [
              0.8888888888888888,
              "#fdca26"
             ],
             [
              1,
              "#f0f921"
             ]
            ],
            "type": "histogram2dcontour"
           }
          ],
          "mesh3d": [
           {
            "colorbar": {
             "outlinewidth": 0,
             "ticks": ""
            },
            "type": "mesh3d"
           }
          ],
          "parcoords": [
           {
            "line": {
             "colorbar": {
              "outlinewidth": 0,
              "ticks": ""
             }
            },
            "type": "parcoords"
           }
          ],
          "pie": [
           {
            "automargin": true,
            "type": "pie"
           }
          ],
          "scatter": [
           {
            "fillpattern": {
             "fillmode": "overlay",
             "size": 10,
             "solidity": 0.2
            },
            "type": "scatter"
           }
          ],
          "scatter3d": [
           {
            "line": {
             "colorbar": {
              "outlinewidth": 0,
              "ticks": ""
             }
            },
            "marker": {
             "colorbar": {
              "outlinewidth": 0,
              "ticks": ""
             }
            },
            "type": "scatter3d"
           }
          ],
          "scattercarpet": [
           {
            "marker": {
             "colorbar": {
              "outlinewidth": 0,
              "ticks": ""
             }
            },
            "type": "scattercarpet"
           }
          ],
          "scattergeo": [
           {
            "marker": {
             "colorbar": {
              "outlinewidth": 0,
              "ticks": ""
             }
            },
            "type": "scattergeo"
           }
          ],
          "scattergl": [
           {
            "marker": {
             "colorbar": {
              "outlinewidth": 0,
              "ticks": ""
             }
            },
            "type": "scattergl"
           }
          ],
          "scattermapbox": [
           {
            "marker": {
             "colorbar": {
              "outlinewidth": 0,
              "ticks": ""
             }
            },
            "type": "scattermapbox"
           }
          ],
          "scatterpolar": [
           {
            "marker": {
             "colorbar": {
              "outlinewidth": 0,
              "ticks": ""
             }
            },
            "type": "scatterpolar"
           }
          ],
          "scatterpolargl": [
           {
            "marker": {
             "colorbar": {
              "outlinewidth": 0,
              "ticks": ""
             }
            },
            "type": "scatterpolargl"
           }
          ],
          "scatterternary": [
           {
            "marker": {
             "colorbar": {
              "outlinewidth": 0,
              "ticks": ""
             }
            },
            "type": "scatterternary"
           }
          ],
          "surface": [
           {
            "colorbar": {
             "outlinewidth": 0,
             "ticks": ""
            },
            "colorscale": [
             [
              0,
              "#0d0887"
             ],
             [
              0.1111111111111111,
              "#46039f"
             ],
             [
              0.2222222222222222,
              "#7201a8"
             ],
             [
              0.3333333333333333,
              "#9c179e"
             ],
             [
              0.4444444444444444,
              "#bd3786"
             ],
             [
              0.5555555555555556,
              "#d8576b"
             ],
             [
              0.6666666666666666,
              "#ed7953"
             ],
             [
              0.7777777777777778,
              "#fb9f3a"
             ],
             [
              0.8888888888888888,
              "#fdca26"
             ],
             [
              1,
              "#f0f921"
             ]
            ],
            "type": "surface"
           }
          ],
          "table": [
           {
            "cells": {
             "fill": {
              "color": "#EBF0F8"
             },
             "line": {
              "color": "white"
             }
            },
            "header": {
             "fill": {
              "color": "#C8D4E3"
             },
             "line": {
              "color": "white"
             }
            },
            "type": "table"
           }
          ]
         },
         "layout": {
          "annotationdefaults": {
           "arrowcolor": "#2a3f5f",
           "arrowhead": 0,
           "arrowwidth": 1
          },
          "autotypenumbers": "strict",
          "coloraxis": {
           "colorbar": {
            "outlinewidth": 0,
            "ticks": ""
           }
          },
          "colorscale": {
           "diverging": [
            [
             0,
             "#8e0152"
            ],
            [
             0.1,
             "#c51b7d"
            ],
            [
             0.2,
             "#de77ae"
            ],
            [
             0.3,
             "#f1b6da"
            ],
            [
             0.4,
             "#fde0ef"
            ],
            [
             0.5,
             "#f7f7f7"
            ],
            [
             0.6,
             "#e6f5d0"
            ],
            [
             0.7,
             "#b8e186"
            ],
            [
             0.8,
             "#7fbc41"
            ],
            [
             0.9,
             "#4d9221"
            ],
            [
             1,
             "#276419"
            ]
           ],
           "sequential": [
            [
             0,
             "#0d0887"
            ],
            [
             0.1111111111111111,
             "#46039f"
            ],
            [
             0.2222222222222222,
             "#7201a8"
            ],
            [
             0.3333333333333333,
             "#9c179e"
            ],
            [
             0.4444444444444444,
             "#bd3786"
            ],
            [
             0.5555555555555556,
             "#d8576b"
            ],
            [
             0.6666666666666666,
             "#ed7953"
            ],
            [
             0.7777777777777778,
             "#fb9f3a"
            ],
            [
             0.8888888888888888,
             "#fdca26"
            ],
            [
             1,
             "#f0f921"
            ]
           ],
           "sequentialminus": [
            [
             0,
             "#0d0887"
            ],
            [
             0.1111111111111111,
             "#46039f"
            ],
            [
             0.2222222222222222,
             "#7201a8"
            ],
            [
             0.3333333333333333,
             "#9c179e"
            ],
            [
             0.4444444444444444,
             "#bd3786"
            ],
            [
             0.5555555555555556,
             "#d8576b"
            ],
            [
             0.6666666666666666,
             "#ed7953"
            ],
            [
             0.7777777777777778,
             "#fb9f3a"
            ],
            [
             0.8888888888888888,
             "#fdca26"
            ],
            [
             1,
             "#f0f921"
            ]
           ]
          },
          "colorway": [
           "#636efa",
           "#EF553B",
           "#00cc96",
           "#ab63fa",
           "#FFA15A",
           "#19d3f3",
           "#FF6692",
           "#B6E880",
           "#FF97FF",
           "#FECB52"
          ],
          "font": {
           "color": "#2a3f5f"
          },
          "geo": {
           "bgcolor": "white",
           "lakecolor": "white",
           "landcolor": "#E5ECF6",
           "showlakes": true,
           "showland": true,
           "subunitcolor": "white"
          },
          "hoverlabel": {
           "align": "left"
          },
          "hovermode": "closest",
          "mapbox": {
           "style": "light"
          },
          "paper_bgcolor": "white",
          "plot_bgcolor": "#E5ECF6",
          "polar": {
           "angularaxis": {
            "gridcolor": "white",
            "linecolor": "white",
            "ticks": ""
           },
           "bgcolor": "#E5ECF6",
           "radialaxis": {
            "gridcolor": "white",
            "linecolor": "white",
            "ticks": ""
           }
          },
          "scene": {
           "xaxis": {
            "backgroundcolor": "#E5ECF6",
            "gridcolor": "white",
            "gridwidth": 2,
            "linecolor": "white",
            "showbackground": true,
            "ticks": "",
            "zerolinecolor": "white"
           },
           "yaxis": {
            "backgroundcolor": "#E5ECF6",
            "gridcolor": "white",
            "gridwidth": 2,
            "linecolor": "white",
            "showbackground": true,
            "ticks": "",
            "zerolinecolor": "white"
           },
           "zaxis": {
            "backgroundcolor": "#E5ECF6",
            "gridcolor": "white",
            "gridwidth": 2,
            "linecolor": "white",
            "showbackground": true,
            "ticks": "",
            "zerolinecolor": "white"
           }
          },
          "shapedefaults": {
           "line": {
            "color": "#2a3f5f"
           }
          },
          "ternary": {
           "aaxis": {
            "gridcolor": "white",
            "linecolor": "white",
            "ticks": ""
           },
           "baxis": {
            "gridcolor": "white",
            "linecolor": "white",
            "ticks": ""
           },
           "bgcolor": "#E5ECF6",
           "caxis": {
            "gridcolor": "white",
            "linecolor": "white",
            "ticks": ""
           }
          },
          "title": {
           "x": 0.05
          },
          "xaxis": {
           "automargin": true,
           "gridcolor": "white",
           "linecolor": "white",
           "ticks": "",
           "title": {
            "standoff": 15
           },
           "zerolinecolor": "white",
           "zerolinewidth": 2
          },
          "yaxis": {
           "automargin": true,
           "gridcolor": "white",
           "linecolor": "white",
           "ticks": "",
           "title": {
            "standoff": 15
           },
           "zerolinecolor": "white",
           "zerolinewidth": 2
          }
         }
        }
       }
      }
     },
     "metadata": {},
     "output_type": "display_data"
    }
   ],
   "source": [
    "# Train a KNN classifier on the training data using 30 neighbors\n",
    "knn = KNeighborsClassifier(n_neighbors=30)\n",
    "knn.fit(X_train, y_train)\n",
    "\n",
    "# Create a meshgrid of points that covers the feature space\n",
    "h = 0.2\n",
    "x_min, x_max = X_train[:, 0].min() - .5, X_train[:, 0].max() + .5\n",
    "y_min, y_max = X_train[:, 1].min() - .5, X_train[:, 1].max() + .5\n",
    "xx, yy = np.meshgrid(np.arange(x_min, x_max, h), np.arange(y_min, y_max, h))\n",
    "mesh_points = np.vstack([xx.ravel(), yy.ravel(), np.zeros_like(xx.ravel()), np.zeros_like(xx.ravel()), np.zeros_like(xx.ravel()), np.zeros_like(xx.ravel()), np.zeros_like(xx.ravel()), np.zeros_like(xx.ravel()), np.zeros_like(xx.ravel()), np.zeros_like(xx.ravel()), np.zeros_like(xx.ravel()), np.zeros_like(xx.ravel()), np.zeros_like(xx.ravel()), np.zeros_like(xx.ravel()), np.zeros_like(xx.ravel()), np.zeros_like(xx.ravel()), np.zeros_like(xx.ravel()), np.zeros_like(xx.ravel()), np.zeros_like(xx.ravel()), np.zeros_like(xx.ravel()), np.zeros_like(xx.ravel()), np.zeros_like(xx.ravel()), np.zeros_like(xx.ravel()), np.zeros_like(xx.ravel()), np.zeros_like(xx.ravel()), np.zeros_like(xx.ravel()), np.zeros_like(xx.ravel()), np.zeros_like(xx.ravel()), np.zeros_like(xx.ravel()), np.zeros_like(xx.ravel())]).T\n",
    "\n",
    "# Predict the class of each mesh point\n",
    "Z = knn.predict(mesh_points)\n",
    "Z = Z.reshape(xx.shape)\n",
    "\n",
    "# Create a scatter plot of the training data\n",
    "fig = go.Figure(data=go.Scatter(x=X_train[:, 0], y=X_train[:, 1], mode='markers', marker=dict(color=y_train)))\n",
    "\n",
    "# Add the decision boundaries to the plot\n",
    "#fig.add_trace(go.Contour(x=xx[0], y=yy[:, 0], z=Z, colorscale=[[0, 'rgb(255, 255, 255)'], [1, 'rgb(255, 0, 0)']], showscale=False, opacity=0.5))\n",
    "\n",
    "# Show the plot\n",
    "fig.show()\n"
   ]
  }
 ],
 "metadata": {
  "kernelspec": {
   "display_name": "base",
   "language": "python",
   "name": "python3"
  },
  "language_info": {
   "codemirror_mode": {
    "name": "ipython",
    "version": 3
   },
   "file_extension": ".py",
   "mimetype": "text/x-python",
   "name": "python",
   "nbconvert_exporter": "python",
   "pygments_lexer": "ipython3",
   "version": "3.9.16"
  },
  "orig_nbformat": 4
 },
 "nbformat": 4,
 "nbformat_minor": 2
}
