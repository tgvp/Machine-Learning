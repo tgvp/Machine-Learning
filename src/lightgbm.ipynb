{
 "cells": [
  {
   "cell_type": "code",
   "execution_count": 11,
   "metadata": {},
   "outputs": [],
   "source": [
    "import numpy as np\n",
    "import lightgbm as lgb\n",
    "from sklearn.datasets import load_iris\n",
    "from sklearn.model_selection import train_test_split\n",
    "from sklearn.metrics import accuracy_score\n",
    "import pandas as pd"
   ]
  },
  {
   "cell_type": "code",
   "execution_count": 3,
   "metadata": {},
   "outputs": [],
   "source": [
    "iris = load_iris()\n",
    "X = iris.data\n",
    "y = iris.target"
   ]
  },
  {
   "cell_type": "code",
   "execution_count": 4,
   "metadata": {},
   "outputs": [],
   "source": [
    "X_train, X_test, y_train, y_test = train_test_split(\n",
    "        X, y, test_size=0.2, random_state=0)\n"
   ]
  },
  {
   "cell_type": "code",
   "execution_count": 6,
   "metadata": {},
   "outputs": [
    {
     "data": {
      "text/plain": [
       "array([[6.4, 3.1, 5.5, 1.8],\n",
       "       [5.4, 3. , 4.5, 1.5],\n",
       "       [5.2, 3.5, 1.5, 0.2],\n",
       "       [6.1, 3. , 4.9, 1.8],\n",
       "       [6.4, 2.8, 5.6, 2.2]])"
      ]
     },
     "execution_count": 6,
     "metadata": {},
     "output_type": "execute_result"
    }
   ],
   "source": [
    "X_train"
   ]
  },
  {
   "cell_type": "code",
   "execution_count": 10,
   "metadata": {},
   "outputs": [
    {
     "data": {
      "text/plain": [
       "array([2, 1, 0, 2, 2, 1, 0, 1, 1, 1, 2, 0, 2, 0, 0, 1, 2, 2, 2, 2, 1, 2,\n",
       "       1, 1, 2, 2, 2, 2, 1, 2, 1, 0, 2, 1, 1, 1, 1, 2, 0, 0, 2, 1, 0, 0,\n",
       "       1, 0, 2, 1, 0, 1, 2, 1, 0, 2, 2, 2, 2, 0, 0, 2, 2, 0, 2, 0, 2, 2,\n",
       "       0, 0, 2, 0, 0, 0, 1, 2, 2, 0, 0, 0, 1, 1, 0, 0, 1, 0, 2, 1, 2, 1,\n",
       "       0, 2, 0, 2, 0, 0, 2, 0, 2, 1, 1, 1, 2, 2, 1, 1, 0, 1, 2, 2, 0, 1,\n",
       "       1, 1, 1, 0, 0, 0, 2, 1, 2, 0])"
      ]
     },
     "execution_count": 10,
     "metadata": {},
     "output_type": "execute_result"
    }
   ],
   "source": [
    "y_train"
   ]
  },
  {
   "cell_type": "code",
   "execution_count": 9,
   "metadata": {},
   "outputs": [
    {
     "data": {
      "text/plain": [
       "array([2, 1, 0, 2, 0, 2, 0, 1, 1, 1, 2, 1, 1, 1, 1, 0, 1, 1, 0, 0, 2, 1,\n",
       "       0, 0, 2, 0, 0, 1, 1, 0])"
      ]
     },
     "execution_count": 9,
     "metadata": {},
     "output_type": "execute_result"
    }
   ],
   "source": [
    "gbm = lgb.LGBMClassifier(objective='multiclass')\n",
    "gbm.fit(X_train, y_train)\n",
    "y_pred = gbm.predict(X_test, num_iteration=gbm.best_iteration_)\n",
    "y_pred"
   ]
  },
  {
   "cell_type": "code",
   "execution_count": 12,
   "metadata": {},
   "outputs": [
    {
     "data": {
      "text/plain": [
       "array([[4.22223322e-05, 6.33162742e-03, 9.93626150e-01],\n",
       "       [1.46967821e-04, 9.87875248e-01, 1.19777838e-02],\n",
       "       [9.99775929e-01, 2.23728458e-04, 3.42457935e-07],\n",
       "       [2.98824495e-05, 4.50322508e-03, 9.95466892e-01],\n",
       "       [9.99933535e-01, 6.61001414e-05, 3.64405419e-07],\n",
       "       [1.28721415e-05, 3.16028689e-04, 9.99671099e-01],\n",
       "       [9.99919413e-01, 8.02227031e-05, 3.64290852e-07],\n",
       "       [3.92979032e-06, 9.99955981e-01, 4.00895021e-05],\n",
       "       [5.77990828e-06, 9.99847326e-01, 1.46893999e-04],\n",
       "       [6.84494061e-05, 9.95426922e-01, 4.50462886e-03],\n",
       "       [2.33445356e-04, 2.35413502e-01, 7.64353052e-01],\n",
       "       [4.37425804e-06, 9.99963551e-01, 3.20746118e-05],\n",
       "       [5.07559452e-05, 9.95847243e-01, 4.10200082e-03],\n",
       "       [5.68401387e-06, 9.99882073e-01, 1.12242724e-04],\n",
       "       [4.48220385e-05, 9.96888010e-01, 3.06716755e-03],\n",
       "       [9.99940556e-01, 5.90794625e-05, 3.64407977e-07],\n",
       "       [7.89324414e-06, 9.99576778e-01, 4.15329170e-04],\n",
       "       [5.61429198e-06, 9.99790177e-01, 2.04208379e-04],\n",
       "       [9.99880010e-01, 1.18954073e-04, 1.03563940e-06],\n",
       "       [9.99879136e-01, 1.20521814e-04, 3.42060801e-07],\n",
       "       [2.69605915e-04, 3.36467825e-01, 6.63262569e-01],\n",
       "       [2.83296419e-06, 9.99985078e-01, 1.20886578e-05],\n",
       "       [9.99906440e-01, 9.31959939e-05, 3.64395544e-07],\n",
       "       [9.99558174e-01, 4.40790129e-04, 1.03539371e-06],\n",
       "       [4.86753229e-05, 1.03109214e-02, 9.89640403e-01],\n",
       "       [9.99940556e-01, 5.90794625e-05, 3.64407977e-07],\n",
       "       [9.99854080e-01, 1.45579017e-04, 3.41451740e-07],\n",
       "       [3.89374851e-05, 9.98012674e-01, 1.94838889e-03],\n",
       "       [7.21951073e-05, 9.95176721e-01, 4.75108346e-03],\n",
       "       [9.99886214e-01, 1.13422164e-04, 3.63928039e-07]])"
      ]
     },
     "execution_count": 12,
     "metadata": {},
     "output_type": "execute_result"
    }
   ],
   "source": [
    "# evaluate using ROC\n",
    "from sklearn.metrics import roc_auc_score\n",
    "y_pred_proba = gbm.predict_proba(X_test, num_iteration=gbm.best_iteration_)\n",
    "y_pred_proba"
   ]
  },
  {
   "cell_type": "code",
   "execution_count": null,
   "metadata": {},
   "outputs": [],
   "source": []
  }
 ],
 "metadata": {
  "kernelspec": {
   "display_name": "base",
   "language": "python",
   "name": "python3"
  },
  "language_info": {
   "codemirror_mode": {
    "name": "ipython",
    "version": 3
   },
   "file_extension": ".py",
   "mimetype": "text/x-python",
   "name": "python",
   "nbconvert_exporter": "python",
   "pygments_lexer": "ipython3",
   "version": "3.10.9"
  },
  "orig_nbformat": 4
 },
 "nbformat": 4,
 "nbformat_minor": 2
}
